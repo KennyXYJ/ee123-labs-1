{
 "cells": [
  {
   "cell_type": "markdown",
   "metadata": {},
   "source": [
    "# Lab 5 Part I: AX.25 and APRS\n",
    "## Please read the text in this lab carefully, there's lots of important detailed information everywhere. \n",
    "\n",
    "In this part of the lab we are going to experiment with Digital modulation and communication. Network Communication systems have layered architechture. The bottom layer is the physical which implements the modulation. Here we will use your [AFSK](http://en.wikipedia.org/wiki/Frequency-shift_keying) modules that you implemented in lab 4 part II. In addition, we will leverage [AX.25](http://www.tapr.org/pub_ax25.html), which is an amateur-radio data-link layer protocol. [AX.25](http://www.tapr.org/pub_ax25.html) is a packet based protocol that will help us transmit data using packets. It implements basic synchronization, addressing, data encapsulation and some error detection.  In the ham world, an implementation of AFSK and [AX.25](http://www.tapr.org/pub_ax25.html)  together is also called a [TNC ( Terminal Node Controller )](http://en.wikipedia.org/wiki/Terminal_node_controller). In the past TNC's were separate boxes that hams used to attach to their radios to communicate with packet-based-communication. Today, it is easy to implement TNC's in software using the raspberry-pi and a USB soundcard.... as you will see here! \n",
    "\n",
    "\n"
   ]
  },
  {
   "cell_type": "code",
   "execution_count": 1,
   "metadata": {},
   "outputs": [],
   "source": [
    "\n",
    "# Import functions and libraries\n",
    "import numpy as np\n",
    "import matplotlib.pyplot as plt\n",
    "from matplotlib.pyplot import figure,plot, title,stem, loglog,xlabel,ylabel\n",
    "import queue as Queue\n",
    "import threading,time\n",
    "import sys\n",
    "\n",
    "from numpy import pi\n",
    "from numpy import sin\n",
    "from numpy import zeros\n",
    "from numpy import r_\n",
    "from numpy import ones\n",
    "from scipy import signal\n",
    "from scipy import integrate\n",
    "\n",
    "import time\n",
    "import multiprocessing\n",
    "\n",
    "from numpy import mean\n",
    "from numpy import power\n",
    "from numpy.fft import fft\n",
    "from numpy.fft import fftshift\n",
    "from numpy.fft import ifft\n",
    "from numpy.fft import ifftshift\n",
    "import bitarray\n",
    "from  scipy.io.wavfile import read as wavread\n",
    "import ax25\n",
    "from math import gcd\n",
    "#import sounddevice as sd\n",
    "#import RPi.GPIO as GPIO\n",
    "from functools import reduce\n",
    "from numpy import ones,zeros, pi, cos, exp, sign\n",
    "\n",
    "%matplotlib inline"
   ]
  },
  {
   "cell_type": "markdown",
   "metadata": {},
   "source": [
    "For the following tasks you will need the functions:\n",
    "\n",
    "`sg_plot`  included below\n",
    "\n",
    "`myspectrogram_hann_ovlp` included below\n",
    "\n",
    "`printDevNumbers`  included below\n",
    "\n",
    "\n",
    "`afsk1200` (from Lab 4 Part II)\n",
    "\n",
    "`nc_afsk1200Demod` (from Lab 4 Part II)\n",
    "\n",
    "`PLL` (from Lab 4 Part II)"
   ]
  },
  {
   "cell_type": "code",
   "execution_count": 2,
   "metadata": {
    "collapsed": true
   },
   "outputs": [],
   "source": [
    "# function to compute least common multipler\n",
    "def lcm(numbers):\n",
    "    return reduce(lambda x, y: (x*y)//gcd(x,y), numbers, 1)\n",
    "\n",
    "# function to compute average power spectrum\n",
    "def avgPS( x, N=256, fs=1):\n",
    "    M = (len(x)//N)\n",
    "    x_ = np.reshape(x[:M*N],(M,N)) * np.hamming(N)[None,:]\n",
    "    X = np.fft.fftshift(np.fft.fft(x_,axis=1),axes=1)\n",
    "    return r_[-N/2.0:N/2.0]/N*fs, np.mean(abs(X)**2,axis=0)\n",
    "\n",
    "\n",
    "\n",
    "# Plot an image of the spectrogram y, with the axis labeled with time tl,\n",
    "# and frequency fl\n",
    "#\n",
    "# t_range -- time axis label, nt samples\n",
    "# f_range -- frequency axis label, nf samples\n",
    "# y -- spectrogram, nf by nt array\n",
    "# dbf -- Dynamic range of the spect\n",
    "\n",
    "def sg_plot( t_range, f_range, y, dbf = 60, fig = None) :\n",
    "    eps = 10.0**(-dbf/20.0)  # minimum signal\n",
    "    \n",
    "    # find maximum\n",
    "    y_max = abs(y).max()\n",
    "    \n",
    "    # compute 20*log magnitude, scaled to the max\n",
    "    y_log = 20.0 * np.log10( (abs( y ) / y_max)*(1-eps) + eps )\n",
    "    \n",
    "    # rescale image intensity to 256\n",
    "    img = 256*(y_log + dbf)/dbf - 1\n",
    "    \n",
    "    fig=plt.figure(figsize=(16,6))\n",
    "    \n",
    "    plt.imshow( np.flipud( 64.0*(y_log + dbf)/dbf ), extent= t_range  + f_range ,cmap=plt.cm.gray, aspect='auto')\n",
    "    plt.xlabel('Time, s')\n",
    "    plt.ylabel('Frequency, Hz')\n",
    "    plt.tight_layout()\n",
    "    \n",
    "    return fig\n",
    "\n",
    "\n",
    "def myspectrogram_hann_ovlp(x, m, fs, fc,dbf = 60):\n",
    "    # Plot the spectrogram of x.\n",
    "    # First take the original signal x and split it into blocks of length m\n",
    "    # This corresponds to using a rectangular window %\n",
    "    \n",
    "    \n",
    "    isreal_bool = np.isreal(x).all()\n",
    "    \n",
    "    # pad x up to a multiple of m \n",
    "    lx = len(x);\n",
    "    nt = (lx + m - 1) // m\n",
    "    x = np.append(x,zeros(-lx+nt*m))\n",
    "    x = x.reshape((m//2,nt*2), order='F')\n",
    "    x = np.concatenate((x,x),axis=0)\n",
    "    x = x.reshape((m*nt*2,1),order='F')\n",
    "    x = x[r_[m//2:len(x),np.ones(m//2)*(len(x)-1)].astype(int)].reshape((m,nt*2),order='F')\n",
    "    \n",
    "    \n",
    "    xmw = x * np.hanning(m)[:,None];\n",
    "    \n",
    "    \n",
    "    # frequency index\n",
    "    t_range = [0.0, lx / fs]\n",
    "    \n",
    "    if isreal_bool:\n",
    "        f_range = [ fc, fs / 2.0 + fc]\n",
    "        xmf = np.fft.fft(xmw,len(xmw),axis=0)\n",
    "        sg_plot(t_range, f_range, xmf[0:m//2,:],dbf=dbf)\n",
    "        print (1)\n",
    "    else:\n",
    "        f_range = [-fs / 2.0 + fc, fs / 2.0 + fc]\n",
    "        xmf = np.fft.fftshift( np.fft.fft( xmw ,len(xmw),axis=0), axes=0 )\n",
    "        sg_plot(t_range, f_range, xmf,dbf = dbf)\n",
    "    \n",
    "    return t_range, f_range, xmf\n",
    "\n",
    "\n",
    "\n"
   ]
  },
  {
   "cell_type": "markdown",
   "metadata": {},
   "source": [
    "### Functions from part Lab 4 II\n",
    "\n",
    "Insert your \n",
    "\n",
    "`afsk1200` (from Lab 4 Part II)\n",
    "\n",
    "`nc_afsk1200Demod` (from lab 4 Part II)\n",
    "\n",
    "`PLL` (from lab 4 Part II)\n",
    "\n",
    "Below\n"
   ]
  },
  {
   "cell_type": "code",
   "execution_count": 31,
   "metadata": {},
   "outputs": [],
   "source": [
    "def afsk1200(bits, fs = 48000):\n",
    "    # the function will take a bitarray of bits and will output an AFSK1200 modulated signal of them, sampled at fs Hz\n",
    "    #  Inputs:\n",
    "    #         bits  - bitarray of bits\n",
    "    #         fs    - sampling rate\n",
    "    # Outputs:\n",
    "    #         sig    -  returns afsk1200 modulated signal samples at fs Hz\n",
    "    \n",
    "    fss = lcm((1200,fs))\n",
    "    deci = fss//fs\n",
    "    \n",
    "    Nb = fss//1200\n",
    "    nb = len(bits)\n",
    "    NRZ = ones((nb,Nb))\n",
    "    for n in range(0,nb):\n",
    "        if bits[n]:\n",
    "            NRZ[n,:]=-NRZ[n,:]\n",
    "    \n",
    "    freq = 1700 + 500*NRZ.ravel()\n",
    "    ph = 2.0*pi*integrate.cumtrapz(freq)/fss\n",
    "    sig = cos(ph[::deci])\n",
    "    \n",
    "    return sig\n",
    "        \n",
    "\n",
    "\n",
    "\n",
    "\n",
    "\n",
    "def nc_afsk1200Demod(sig, fs=44100.0, TBW=2.0):\n",
    "    #  non-coherent demodulation of afsk1200\n",
    "    # function returns the NRZ (without rectifying it)\n",
    "    # \n",
    "    # sig  - signal\n",
    "    # baud - The bitrate. Default 1200\n",
    "    # fs   - sampling rate in Hz\n",
    "    # TBW  - TBW product of the filters\n",
    "    #\n",
    "    # Returns:\n",
    "    #     NRZ \n",
    "    \n",
    "    N = (int(fs/1200*TBW)//2)*2+1\n",
    "    BW = TBW/(1.0*N/fs)\n",
    "    BW = TBW/(1.0*N/fs)\n",
    "    h_lp = signal.firwin(N,BW/fs*1.0,window='hanning')\n",
    "    h_lpp = signal.firwin(N,BW*2*1.2/fs,window='hanning')\n",
    "    h_space = h_lp*exp(1j*2*pi*(2200)*r_[-N/2:N/2]/fs)\n",
    "    h_mark = h_lp*exp(1j*2*pi*(1200)*r_[-N/2:N/2]/fs)\n",
    "    h_bp = (signal.firwin(N,BW/fs*2.2,window='hanning'))*exp(1j*2*pi*1700*r_[-N/2:N/2]/fs)\n",
    "    \n",
    "    sig = signal.fftconvolve(sig.copy(),h_bp,'same')\n",
    "    mark = abs(signal.fftconvolve(sig,h_mark,mode='same'))\n",
    "    space = abs(signal.fftconvolve(sig,h_space,mode='same'))\n",
    "    NRZ = mark-space\n",
    "    NRZ = signal.fftconvolve(NRZ,h_lpp,'same')\n",
    "    return NRZ\n",
    "\n",
    "\n",
    "def PLL(NRZa, a = 0.74 , fs = 44100, baud = 1200):\n",
    "    \n",
    "    \n",
    "    Ns = 1.0*fs/baud\n",
    "    idx = zeros(len(NRZa)//int(Ns)*2)   # allocate space to save indexes\n",
    "    lock = zeros(len(NRZa)//int(Ns)*2)\n",
    "    c = 0\n",
    "    dpll = np.round(2**32 / Ns).astype(np.int32)\n",
    "    pll = np.int32(0)\n",
    "    ppll = pll - dpll\n",
    "    \n",
    "    for n in range(1,len(NRZa)):\n",
    "        if (pll < 0) and (ppll >0):\n",
    "            idx[c] = n\n",
    "            c = c+1\n",
    "        \n",
    "        if (NRZa[n] >= 0) !=  (NRZa[n-1] >=0):\n",
    "            pll = np.int32(pll*a)\n",
    "            \n",
    "        \n",
    "        ppll = pll\n",
    "        pll = np.int32(pll+ dpll)\n",
    "    \n",
    "    return idx[:c]\n",
    "\n"
   ]
  },
  {
   "cell_type": "markdown",
   "metadata": {},
   "source": [
    "Now, similarly to before, find the audio interface numbers. And intitialize the variables:\n",
    "usb_idx, builtin_idx \n",
    "\n"
   ]
  },
  {
   "cell_type": "code",
   "execution_count": 32,
   "metadata": {},
   "outputs": [
    {
     "ename": "NameError",
     "evalue": "name 'sd' is not defined",
     "output_type": "error",
     "traceback": [
      "\u001b[0;31m---------------------------------------------------------------------------\u001b[0m",
      "\u001b[0;31mNameError\u001b[0m                                 Traceback (most recent call last)",
      "\u001b[0;32m<ipython-input-32-d1e2c0bd0ecc>\u001b[0m in \u001b[0;36m<module>\u001b[0;34m()\u001b[0m\n\u001b[0;32m----> 1\u001b[0;31m \u001b[0msd\u001b[0m\u001b[0;34m.\u001b[0m\u001b[0mquery_devices\u001b[0m\u001b[0;34m(\u001b[0m\u001b[0;34m)\u001b[0m\u001b[0;34m\u001b[0m\u001b[0m\n\u001b[0m",
      "\u001b[0;31mNameError\u001b[0m: name 'sd' is not defined"
     ]
    }
   ],
   "source": [
    "sd.query_devices()"
   ]
  },
  {
   "cell_type": "code",
   "execution_count": 33,
   "metadata": {},
   "outputs": [
    {
     "ename": "NameError",
     "evalue": "name 'sd' is not defined",
     "output_type": "error",
     "traceback": [
      "\u001b[0;31m---------------------------------------------------------------------------\u001b[0m",
      "\u001b[0;31mNameError\u001b[0m                                 Traceback (most recent call last)",
      "\u001b[0;32m<ipython-input-33-0998137e8d3a>\u001b[0m in \u001b[0;36m<module>\u001b[0;34m()\u001b[0m\n\u001b[1;32m      1\u001b[0m \u001b[0mbuiltin_idx\u001b[0m \u001b[0;34m=\u001b[0m \u001b[0;36m0\u001b[0m\u001b[0;34m\u001b[0m\u001b[0m\n\u001b[1;32m      2\u001b[0m \u001b[0musb_idx\u001b[0m \u001b[0;34m=\u001b[0m \u001b[0;36m2\u001b[0m\u001b[0;34m\u001b[0m\u001b[0m\n\u001b[0;32m----> 3\u001b[0;31m \u001b[0msd\u001b[0m\u001b[0;34m.\u001b[0m\u001b[0mdefault\u001b[0m\u001b[0;34m.\u001b[0m\u001b[0msamplerate\u001b[0m\u001b[0;34m=\u001b[0m\u001b[0;36m48000\u001b[0m\u001b[0;34m\u001b[0m\u001b[0m\n\u001b[0m\u001b[1;32m      4\u001b[0m \u001b[0msd\u001b[0m\u001b[0;34m.\u001b[0m\u001b[0mdefault\u001b[0m\u001b[0;34m.\u001b[0m\u001b[0mchannels\u001b[0m \u001b[0;34m=\u001b[0m \u001b[0;36m1\u001b[0m\u001b[0;34m\u001b[0m\u001b[0m\n",
      "\u001b[0;31mNameError\u001b[0m: name 'sd' is not defined"
     ]
    }
   ],
   "source": [
    "builtin_idx = 0\n",
    "usb_idx = 2\n",
    "sd.default.samplerate=48000\n",
    "sd.default.channels = 1"
   ]
  },
  {
   "cell_type": "markdown",
   "metadata": {},
   "source": [
    "Initialize serial port"
   ]
  },
  {
   "cell_type": "code",
   "execution_count": 34,
   "metadata": {},
   "outputs": [
    {
     "ename": "NameError",
     "evalue": "name 'GPIO' is not defined",
     "output_type": "error",
     "traceback": [
      "\u001b[0;31m---------------------------------------------------------------------------\u001b[0m",
      "\u001b[0;31mNameError\u001b[0m                                 Traceback (most recent call last)",
      "\u001b[0;32m<ipython-input-34-7b548e2621a5>\u001b[0m in \u001b[0;36m<module>\u001b[0;34m()\u001b[0m\n\u001b[0;32m----> 1\u001b[0;31m \u001b[0mGPIO\u001b[0m\u001b[0;34m.\u001b[0m\u001b[0msetmode\u001b[0m\u001b[0;34m(\u001b[0m\u001b[0mGPIO\u001b[0m\u001b[0;34m.\u001b[0m\u001b[0mBOARD\u001b[0m\u001b[0;34m)\u001b[0m\u001b[0;34m\u001b[0m\u001b[0m\n\u001b[0m\u001b[1;32m      2\u001b[0m \u001b[0mPTT\u001b[0m \u001b[0;34m=\u001b[0m \u001b[0;36m12\u001b[0m\u001b[0;34m\u001b[0m\u001b[0m\n\u001b[1;32m      3\u001b[0m \u001b[0mGPIO\u001b[0m\u001b[0;34m.\u001b[0m\u001b[0msetup\u001b[0m\u001b[0;34m(\u001b[0m\u001b[0mPTT\u001b[0m\u001b[0;34m,\u001b[0m \u001b[0mGPIO\u001b[0m\u001b[0;34m.\u001b[0m\u001b[0mOUT\u001b[0m\u001b[0;34m,\u001b[0m \u001b[0minitial\u001b[0m \u001b[0;34m=\u001b[0m \u001b[0;36m0\u001b[0m\u001b[0;34m)\u001b[0m\u001b[0;34m\u001b[0m\u001b[0m\n",
      "\u001b[0;31mNameError\u001b[0m: name 'GPIO' is not defined"
     ]
    }
   ],
   "source": [
    "GPIO.setmode(GPIO.BOARD)\n",
    "PTT = 12\n",
    "GPIO.setup(PTT, GPIO.OUT, initial = 0)"
   ]
  },
  {
   "cell_type": "markdown",
   "metadata": {},
   "source": [
    "## AX.25 (from: http://n1vg.net/packet/ and http://www.tapr.org/pub_ax25.html)\n",
    "\n",
    "Before we go to demodulate AFSK1200 we will construct data in the form of AX.25 packets. The structure of the AX.25 packet, and in particular the flag that starts and ends a frame will help us sync to the beginning of the packet for accurate demodulation. \n",
    "The AX.25 protocol uses several measures for standartization and to improve detection and demodulation of packets. We will go over them now:\n",
    "\n",
    "#### NRZI (non-return to zero inverted)\n",
    "AX.25 does not encode  NRZ '1's and '0's in the usual mark and space frequencies. Instead it uses a scheme called NRZI, or non-return to zero inverted.  NRZI encodes a '0' bit as a change from mark to space, or space to mark. A '1' is encoded as no change.  To encode an AX.25 packet we need to convert our bit sequence to an NRZI one.  For example, an original bit stream of 11011000 should be first converted to 11000101 (initial state is 1). \n",
    "\n",
    "#### Bit Stuffing\n",
    "Because a '1' is represented by no change, sending a long string of '1's would result in a constant signal. This may result in a receiver drifting out of sync with the transmitter. In order to circumvent this, the encoder performs bit stuffing before transmition by placing   a bit '0' after every fifth '1' in the the stream. The decoder does bit unstuffing and removes the extra '0's. Bit stuffing is performed before converting to NRZI.\n",
    "\n",
    "#### Bit Order\n",
    "Bytes are sent least-significant-bit first\n",
    "\n",
    "#### Flag\n",
    "A Flag field starts and ends each packet. It is a unique sequence and is used to detect the beginning and the end of packets. The flag consists of the bit sequence: 0x7E or: 01111110. The flag is an exception in which no bit stuffing is performed. Therefore it is the only place in the packet in which 6 consequitive '1's appear. In NRZI it will translate to a time interval of 7 bits between zero-corssing of the non-coherent detector output.  This means that we can use the flag sequence to uniquly detect the beginning and the end of a packet. \n",
    "\n",
    "#### Frame Structure\n",
    "The Ax.25 protocol defines several type of frames. We will use the Un-numbered Information (UI) frame as defined in the protocol. UI frame is used for connectionless mode, where AX.25 frames are transmitted without expecting any response, and reception is not guaranteed. This is similar to UDP in concept (however UDP is a transport layer protocol).\n",
    "The  [Automatic Positioning and Reporting System (APRS)] (http://en.wikipedia.org/wiki/Automatic_Packet_Reporting_System) protocol uses UI frames. The UI frame has 9 fields of data:\n",
    "\n",
    "| flag | Dest. Addr. | Src. Addr. |Digipeater Addresses | Control field | ID | Information Field | FCS | Flag |\n",
    "|----:|-----------:|----------:|:------------------:|:-------------:|:--:|:-----------------:|:---:|:----:|\n",
    "|1     |     7       |     7      |    56              |       1       |  1 |     256           |  2  |  1   |\n",
    "\n",
    "Of importance are the Source address, which are your call sign, the Information Field which is the packet payload, and the FCS which is a error checksum.\n",
    "\n",
    "#### FCS Field\n",
    "The FCS field is always the last two bytes in the packet. They are a checksum that can be used to determine the integrity of the packet. \n",
    "\n",
    "## APRS (information from: [Here](http://www.aprs.org/doc/APRS101.PDF) and [here](http://www.aprs.org/iss-aprs/issicons.html))\n",
    "APRS is a ham packet-based system for real-time tactical digital communication for local area. APRS uses the AX.25 protocol in its core. Using APRS you can report position, status, and send messages that other hams or stations with APRS capability will be able to decode, interpret and display the information. APRS also provides means of packet repeating (Digipeters) alongside with internet terminal nodes. Some radio manufacturers saw the potential and included APRS in some of their products as well. Go to this website: https://aprs.fi  to see the APRS activity in the surrounding area that is aggregated from the internet nodes. You will see fixed stations, weather stations as well as mobile operators in your area. We will use the website to confirm that our transmitted packets were received. \n",
    "\n",
    "### Frequencies:\n",
    "The national APRS frequency is 144.39MHz (ch-79 on your radio with the new programming or ch-117 if you have the old programming). There is much activity and infrastracture transmitting and listenning to that frequency. The international space station also has an APRS digipeter on board operating at 145.825MHZ (ch-50 on your radio). You can also use AX.25 on any of the digital or experimental channels in the bandplan -- though you will have to coordinate if you want anybody to hear you! \n",
    "\n",
    "#### EE123 APRS frequency\n",
    "To prevent interference with others while we experiment with APRS, I have set up an APRS station in Cory hall. It will monitor the XPMTU4 channel (ch-78),  443.670MHz on your radio. It has an internet link as well. Use this frequency first, and only if it does not work out, switch to the APRS frequency 144.39 (ch-79). We will do our best to make it work. \n",
    "\n",
    "### APRS Destination, source, digipeter address, control, ID and FCS packet fields\n",
    "For APRS packets, the Destination address field is not used for routing. Instead it represents the version of the APRS software you are using. In order to be decoded by receivers in the APRS network it must start with the letters AP. We will use **`APCAL`** just for fun. \n",
    "The source address is **your call sign**. The digipeter addresses require some explenation but the fields 'WIDE1-1,WIDE2-1' will result in the packet being digipeted a maximum of 2 hops. In dense population areas like the bay area 'WIDE1-1' is often enough to get your packet to its destination. The Control and ID fields in APRS packets are fixed to \"\\x03\" and \"\\xF0\" respectively. The FCS field is the checksum field, that is used to verify the packet integrity, as defined by AX.25. The flag fields are the usual 01111110.\n",
    "\n",
    "We have prepared for you code that generates valid bitstream of AX.25 packets from the appropriate fields as well as decode the fields from a bitstream. The code is a modification of code originally written by: Greg Albrecht W2GMD. \n",
    "\n",
    "Make sure you have ``ax25.py`` in your working directory"
   ]
  },
  {
   "cell_type": "markdown",
   "metadata": {},
   "source": [
    " \n",
    "### The APRS informatrion field\n",
    "The information field of the packet are 256 Bytes payload that contain the information you want to send. We will go over some of the information that is needed to construct valid and useful information field messeges. There are several digipeters in the bay area that have internet terminal nodes. These implement several \"fun\" and useful services. For example, you can send a position report that would show up on a google map. You can also send a short EMAIL or an SMS test message by sending an APRS packet. In fact, we have our own APRS internet terminal node on Cory Hall!\n",
    "\n",
    "How a node or a client interprets your packet depends on the information field structure. There are three types of packets: Position, Status and Messages\n",
    "#### Messages\n",
    "The format of a message payload is the following:\n",
    "\n",
    "Just begin your packet line with a Colon and a 9 character TOADDRESS, another colon and then text. \n",
    "The TOADDRESS must have 9 characters and should be filled with spaces if it is smaller. \n",
    "\n",
    "Examples of messages:\n",
    "\n",
    "* :ALL------:Everyone with capable radios that capture this message will diaplay this text.\n",
    "* :KK6MRI---:This message will only show on Miki's APRS enabled Yaezu VX-8dr radio screen\n",
    "* :EMAIL----:mlustig@eecs.berkeley.edu I sent you an email Miki through an OpenAPRS node!\n",
    "* :SMSGTE---:@5108594141 this message will be sent as an SMS to Miki's google phone\n",
    "* :TWITR----: This message will show as a tweet on @HamRadioTweets account\n",
    "The \"-----\" are blank spaces to fill the space to 9 characters.  \n",
    "\n",
    "#### Position\n",
    "You can report your position to people on the APRS system. If your report is picked up by a node it will show up on http://www.aprs.fi. The basic format of a position packet is:\n",
    "\n",
    "| ! or = symbols | Latitude 8 chars | / | Longitude 9 chars| icon 1 char| Comment max 43 chars |\n",
    "|---------------|-------------------|---|------------------|------------|----------------------|\n",
    "| =             | 3752.50N|        /| 12215.43W|            K|Shows a school symbol on Cory Hall position|\n",
    "| =             |3752.45N |/|12215.98W|[|Shows a person walking on Oxford and Hearst|\n",
    "| =             |2759.16N |/|08655.30E|[|I'm on the top of the world! (Mt. Everest)|\n",
    "\n",
    "The latitude format is expressed as a fixed 8-character field, in degrees and decimal minutes (up to two decimal places), followed by a letter N for north and S for south. Latitude minutes are expressed as whole minutes and hundredth of a minute, separated by a decimal point. Longitude is expressed as a fixed 9-character field, in degrees and decimal minutes (to two decimal places), followed by the letter E for east or W for west. Longitude degrees are in the range 000 to 180. Longitude minutes are expressed as whole minutes and hundredths of a minute, separated by a decimal point.\n",
    "\n",
    "In generic format:\n",
    "\n",
    "* Latitude is expressed as: ddmm.hhN (i.e. degrees, minutes and hundredths of a minute north)\n",
    "* Longitude is expressed as: dddmm.hhW (i.e. degrees, minutes and hundredths of a minute west)\n",
    "\n",
    "For example Cory Hall is at N37° 52.5022', W122° 15.4395'. So the position is encoded as:\n",
    "3752.50N/12215.43W\n",
    "\n",
    "You can go to http://www.gpsvisualizer.com/geocode to find the coordinates of an address. Note: use the degree, minutes representation, not the decimal one. \n",
    "\n",
    "a 1 character icon is provided after the coordinates. This will show an icon on the http://aprs.fi maps. Here are some useful ones:\n",
    "\n",
    "* \\- House with a VHF vertical\n",
    "*  < Motorcycle\n",
    "* \\> Car\n",
    "* Y Sailboat\n",
    "* b Bike\n",
    "* [ Jogger, walker, runner\n",
    "* X Helo\n",
    "* K School\n",
    "\n",
    "Examples:\n",
    "\n",
    "a school symbol \n",
    "* =3752.50N/12215.43WKShows a school symbol on Cory Hall position.\n",
    "* =3752.45N/12215.98W[Shows a person walking on Oxford and Hearst\n",
    "* =3752.❏❏N/12215.❏❏-Shows a house symbol somewhere in Berkeley.\n",
    "\n",
    "** The empty squares ❏ represent space charcter **\n",
    "\n",
    "#### Status\n",
    "A status packet starts with '>' character. It wil show on APRS equipped radios. \n",
    "\n",
    "Examples:\n",
    "\n",
    "*  \\>I like radios\n",
    "*  \\>Monitoring 146.430MHz PL 66\n",
    "*  \\>On My way home\n",
    "\n"
   ]
  },
  {
   "cell_type": "markdown",
   "metadata": {},
   "source": [
    "## Your first APRS packet\n",
    "In the following section we will construct a valid (bitstuffed) bitstream from the different APRS packet fields. We will convert to an NRZI representation and modulate to generate a valid AFSK1200 APRS Packet. We will transmit it over the radio and look at http://aprs.fi to see if it was received by a node. \n",
    "\n",
    "### Bitstream from APRS fields\n",
    "\n",
    "The following code shows you how to construct a message packet that will tell a digipeter to send you an email. Make sure you fill the correct information in the fields. The bitstream will already be bitsuffed with zeroes. \n"
   ]
  },
  {
   "cell_type": "code",
   "execution_count": 35,
   "metadata": {},
   "outputs": [
    {
     "name": "stdout",
     "output_type": "stream",
     "text": [
      "bitarray('0111111001000001000001010110000101000001000110010000001000000110011010010101100100110110010001010000100100100001000001100111010101001001000100010101000101000110000000100100011001110101010010010001000101010001001001100000001011000110110000000000111101011100110010101011001011001010111000100010101010100010000001000000010001011100000000100001010010101100100011000000110010010100000111001010110010011100101101000010110010001100001011001000110000000100001010100001011010010110110011100000010010010110110011100000010010000110000001000010111010100110000111100010111000000100101101101010011011001110110011101000011011100110101001100000010001100110010011101111011010110110000001001011011010011110000001000100111010000110001001101001011011110110111100010111000001111110')\n"
     ]
    }
   ],
   "source": [
    "import ax25\n",
    "\n",
    "callsign ='KM6QHB'        # your callsign -- for example mine would be \"KK6MRI\"\n",
    "Digi =b'WIDE1-1,WIDE2-1'\n",
    "dest = \"APCAL\"\n",
    "\n",
    "# Uncomment to Send Email\n",
    "#info = \":EMAIL    :shermantay@berkeley.edu Hi, its Sherman, what a great lab!\"\n",
    "\n",
    "# Uncomment to Send an SMS message to a phone number (update the number!)\n",
    "info = \":SMSGTE  :@(510)859-4141 This is a text message from my radio\"\n",
    "\n",
    "# Uncomment to tweet on @hamradiotweets account on twittr \n",
    "#info = \":TWITR    :I am doing lab 5 in EE123 class at UC Berkeley. Awesome class\"\n",
    "\n",
    "\n",
    "#uncomment to show yourself on mt everest\n",
    "#info = \"=2759.16N/08655.30E[I'm on the top of the world\"\n",
    "\n",
    "#uncomment to send to everyone on the APRS system near you\n",
    "#info = \":ALL      : CQCQCQ I would like to talk to you!\"\n",
    "\n",
    "\n",
    "# uncomment to report position\n",
    "#info = \"=3752.50N/12215.43WlIm using a laptop in Cory Hall!\"\n",
    "\n",
    "# uncomment to send a status message\n",
    "#info = \">I like radios\"\n",
    "\n",
    "\n",
    "packet = ax25.UI(\n",
    "\t\tdestination=dest,\n",
    "\t\tsource=callsign, \n",
    "\t\tinfo=info,\n",
    "\t\tdigipeaters=Digi.split(b','),\n",
    "        )\n",
    "print(packet.unparse())"
   ]
  },
  {
   "cell_type": "markdown",
   "metadata": {},
   "source": [
    "### Converting a stream of bits to NRZI (zeros represent by change of 0-1 or 1-0 and ones are no change)\n",
    "Recall that AX.25 packets are sent with NRZI encoding in which a '0' is a change and a '1' is no change. \n",
    "\n",
    "* The following function `NRZI = NRZ2NRZI(bits)`,  takes a standard bitarray stream and converts it to a bitarray stream representing '0's as change and '1's as unchanged. For example, an input of 0000111100 will result in 0101111101. This assume an initial state of '1'. \n",
    "* The function `NRZI2NRZ(NRZI, current = True)`, takes an NRZI bitstream and converts it to an NRZ. It assumes an inital state of `current` with default `current=bool(1)`.\n"
   ]
  },
  {
   "cell_type": "code",
   "execution_count": 36,
   "metadata": {
    "collapsed": true
   },
   "outputs": [],
   "source": [
    "def NRZ2NRZI(NRZ):\n",
    "    \n",
    "    NRZI = NRZ.copy() \n",
    "    current = True\n",
    "    for n in range(0,len(NRZ)):\n",
    "        if NRZ[n] :\n",
    "            NRZI[n] = current\n",
    "        else:\n",
    "            NRZI[n] = not(current)\n",
    "        current = NRZI[n]\n",
    "    return NRZI\n",
    "\n",
    "def NRZI2NRZ(NRZI, current = bool(1)):\n",
    "    \n",
    "    NRZ = NRZI.copy() \n",
    "    \n",
    "    for n in range(0,len(NRZI)):\n",
    "            NRZ[n] = NRZI[n] == current\n",
    "            current = NRZI[n]\n",
    "    return NRZ\n",
    "\n"
   ]
  },
  {
   "cell_type": "markdown",
   "metadata": {},
   "source": [
    "### Constructing and Transmitting an APRS AX.25 Packet. \n",
    "\n",
    "Most packet radio and TNC's will pad packets with extra `flag` sequences before and after the packet, to allow for synchronization. Rarely, the padding would be with zero-bit sequences (This will translate into alternating between Mark and Space which also helps with synchronization). Zero-padding is a deviation from the APRS protocol, but is allowed in most receivers. We will also pad our packets. \n",
    "\n",
    "#### Task:\n",
    "* Pad your packet with 40 flags in the begining and at the end.\n",
    "* Construct an afsk1200 signal at a sampling rate of 48KHz out of the padded APRS packet we constructed. \n",
    "* Play the audio through the portable speaker. Make sure you use the builtin audio and not the USB. It will sound like an old modem (which is what it is!)\n",
    "* Plot its spectrogram with a window size of 80 samples (2 bits). You should be able to see the bits. \n",
    "\n",
    "Here's a python trick to generate 40 flags:\n",
    "\n",
    "``prefix = bitarray.bitarray(tile([0,1,1,1,1,1,1,0],(40,)).tolist())``\n"
   ]
  },
  {
   "cell_type": "code",
   "execution_count": 37,
   "metadata": {},
   "outputs": [
    {
     "ename": "NameError",
     "evalue": "name 'sd' is not defined",
     "output_type": "error",
     "traceback": [
      "\u001b[0;31m---------------------------------------------------------------------------\u001b[0m",
      "\u001b[0;31mNameError\u001b[0m                                 Traceback (most recent call last)",
      "\u001b[0;32m<ipython-input-37-4d2c630d91fd>\u001b[0m in \u001b[0;36m<module>\u001b[0;34m()\u001b[0m\n\u001b[1;32m      6\u001b[0m \u001b[0;34m\u001b[0m\u001b[0m\n\u001b[1;32m      7\u001b[0m \u001b[0;31m# play sound on builtin interface and listen through the speaker\u001b[0m\u001b[0;34m\u001b[0m\u001b[0;34m\u001b[0m\u001b[0m\n\u001b[0;32m----> 8\u001b[0;31m \u001b[0msd\u001b[0m\u001b[0;34m.\u001b[0m\u001b[0mplay\u001b[0m\u001b[0;34m(\u001b[0m\u001b[0mmsg\u001b[0m\u001b[0;34m*\u001b[0m\u001b[0;36m0.5\u001b[0m\u001b[0;34m,\u001b[0m\u001b[0msamplerate\u001b[0m\u001b[0;34m=\u001b[0m\u001b[0;36m48000\u001b[0m\u001b[0;34m,\u001b[0m\u001b[0mdevice\u001b[0m\u001b[0;34m=\u001b[0m\u001b[0mbuiltin_idx\u001b[0m\u001b[0;34m,\u001b[0m  \u001b[0mblocking\u001b[0m\u001b[0;34m=\u001b[0m\u001b[0;32mTrue\u001b[0m\u001b[0;34m)\u001b[0m\u001b[0;34m\u001b[0m\u001b[0m\n\u001b[0m\u001b[1;32m      9\u001b[0m \u001b[0;34m\u001b[0m\u001b[0m\n\u001b[1;32m     10\u001b[0m \u001b[0;31m# display spectrogram\u001b[0m\u001b[0;34m\u001b[0m\u001b[0;34m\u001b[0m\u001b[0m\n",
      "\u001b[0;31mNameError\u001b[0m: name 'sd' is not defined"
     ]
    }
   ],
   "source": [
    "# Your code here:\n",
    "prefix = bitarray.bitarray(np.tile([0,1,1,1,1,1,1,0],(40,)).tolist())\n",
    "# add prefix to packet, convert bitstream to NRZI and modulate with afsk1200\n",
    "msg = afsk1200(NRZ2NRZI(prefix+packet.unparse()))\n",
    "\n",
    "\n",
    "# play sound on builtin interface and listen through the speaker    \n",
    "sd.play(msg*0.5,samplerate=48000,device=builtin_idx,  blocking=True)\n",
    "\n",
    "# display spectrogram\n",
    "\n",
    "myspectrogram_hann_ovlp(msg, 80, 48000.0, 443.670e6)"
   ]
  },
  {
   "cell_type": "markdown",
   "metadata": {},
   "source": [
    "#### Task:\n",
    "\n",
    "* Make sure the USB interface is connected and that the audio device numbers are correct. \n",
    "* Connect the interface you your radio input.\n",
    "* Tune your radio to the XPMTU1 frequency: ch-78 on your radio, 443.670MHz, or to the APRS national frequency: 144.39MHz or Channel 79 on your radio. \n",
    "* Send the APRS packet through your radio. As always it is better to be outside in a high place. If you are near Cory Hall you should be OK, we have an APRS internet gateway in Cory, and there are several others in the area as well.\n",
    "* Sometimes it is useful to send the packet twice, just to make sure it goes through. \n",
    "* Make sure your output volume and settings are the \"Good choice\" you calibrated in Lab 4 part I. This means you need to scale your audio by a factor <1.0 I use 0.05 \n",
    "* Be very carefull that your radio is operating appropriately, i.e., not getting stuck in transmit etc. We do not wish to interfere with the APRS network!\n",
    "* By using the command ``time.sleep(0.4)`` between keying the radio and playing the audio you will introduce a 400ms delay between keying and playing the sound. The idea here is to let time for the power amplifier to ramp up before transmitting. Padding the packet also helps. \n",
    "\n",
    "** You do not need to identify yourself, since your packet already does identify you!**\n",
    "\n",
    "\n"
   ]
  },
  {
   "cell_type": "code",
   "execution_count": 38,
   "metadata": {},
   "outputs": [
    {
     "ename": "NameError",
     "evalue": "name 'GPIO' is not defined",
     "output_type": "error",
     "traceback": [
      "\u001b[0;31m---------------------------------------------------------------------------\u001b[0m",
      "\u001b[0;31mNameError\u001b[0m                                 Traceback (most recent call last)",
      "\u001b[0;32m<ipython-input-38-170e430e01f5>\u001b[0m in \u001b[0;36m<module>\u001b[0;34m()\u001b[0m\n\u001b[0;32m----> 1\u001b[0;31m \u001b[0mGPIO\u001b[0m\u001b[0;34m.\u001b[0m\u001b[0moutput\u001b[0m\u001b[0;34m(\u001b[0m\u001b[0mPTT\u001b[0m\u001b[0;34m,\u001b[0m \u001b[0mGPIO\u001b[0m\u001b[0;34m.\u001b[0m\u001b[0mHIGH\u001b[0m\u001b[0;34m)\u001b[0m\u001b[0;34m\u001b[0m\u001b[0m\n\u001b[0m\u001b[1;32m      2\u001b[0m \u001b[0mtime\u001b[0m\u001b[0;34m.\u001b[0m\u001b[0msleep\u001b[0m\u001b[0;34m(\u001b[0m\u001b[0;36m0.4\u001b[0m\u001b[0;34m)\u001b[0m\u001b[0;34m\u001b[0m\u001b[0m\n\u001b[1;32m      3\u001b[0m \u001b[0msd\u001b[0m\u001b[0;34m.\u001b[0m\u001b[0mplay\u001b[0m\u001b[0;34m(\u001b[0m\u001b[0mmsg\u001b[0m\u001b[0;34m*\u001b[0m\u001b[0;36m0.2\u001b[0m\u001b[0;34m,\u001b[0m\u001b[0msamplerate\u001b[0m\u001b[0;34m=\u001b[0m\u001b[0;36m48000\u001b[0m\u001b[0;34m,\u001b[0m\u001b[0mdevice\u001b[0m\u001b[0;34m=\u001b[0m\u001b[0musb_idx\u001b[0m\u001b[0;34m,\u001b[0m  \u001b[0mblocking\u001b[0m\u001b[0;34m=\u001b[0m\u001b[0;32mTrue\u001b[0m\u001b[0;34m)\u001b[0m\u001b[0;34m\u001b[0m\u001b[0m\n\u001b[1;32m      4\u001b[0m \u001b[0mGPIO\u001b[0m\u001b[0;34m.\u001b[0m\u001b[0moutput\u001b[0m\u001b[0;34m(\u001b[0m\u001b[0mPTT\u001b[0m\u001b[0;34m,\u001b[0m \u001b[0mGPIO\u001b[0m\u001b[0;34m.\u001b[0m\u001b[0mLOW\u001b[0m\u001b[0;34m)\u001b[0m\u001b[0;34m\u001b[0m\u001b[0m\n\u001b[1;32m      5\u001b[0m \u001b[0;34m\u001b[0m\u001b[0m\n",
      "\u001b[0;31mNameError\u001b[0m: name 'GPIO' is not defined"
     ]
    }
   ],
   "source": [
    "GPIO.output(PTT, GPIO.HIGH)\n",
    "time.sleep(0.4)\n",
    "sd.play(msg*0.2,samplerate=48000,device=usb_idx,  blocking=True)\n",
    "GPIO.output(PTT, GPIO.LOW)\n",
    "\n"
   ]
  },
  {
   "cell_type": "markdown",
   "metadata": {},
   "source": [
    "#### Important:\n",
    "\n",
    "* Did you get an email? SMS? If so, try sending a position report and check in https://aprs.fi. \n",
    "\n",
    "##### You can also search for your callsign in https://aprs.fi. and then press the raw-packets link. It will show you all the packets received from you in the last 48 hours. This is very useful for debugging!!!!!\n",
    "\n",
    "\n",
    "\n",
    "#### Task: * * * * * * * * * * * * * * * * * * * * * * * * * * * * *\n",
    "\n",
    "* Please send an SMS message using the radio to (510) 859-4141, give your name and a comment. I've created this google voice account for this purpose. "
   ]
  },
  {
   "cell_type": "markdown",
   "metadata": {},
   "source": [
    "## Decodeing AX.25 and APRS Packets\n",
    "\n",
    "Now that we know how to create AX.25 and APRS packets, know how to AFSK1200 modulate them, know how to demodulate AFSK1200 as well, we can move forward to receiving and decoding packets. By the end of that we will have a fully functioning communication system.\n",
    "\n",
    "Make sure the file `ISSpkt.wav` is in your working directoy. It contains an APRS packet I recorded on one of the International Space Station flybyes. Load it to your workspace using the function `wavread`, which we imported from `scipy.io`.\n",
    "(ISSpkt.wav) \n"
   ]
  },
  {
   "cell_type": "code",
   "execution_count": 39,
   "metadata": {
    "collapsed": true
   },
   "outputs": [],
   "source": [
    "fs,sig = wavread(\"ISSpkt.wav\")"
   ]
  },
  {
   "cell_type": "markdown",
   "metadata": {},
   "source": [
    "We will now automate the packet decoding by writing some functions that implement portions of the process.\n",
    "\n",
    "* Run the function `nc_afsk1200Demod` on the ISS packet to get the demodulated \"analog\" NRZI\n",
    "* Plot the signal. It should look like a signal with $\\pm$ positive negative switching!"
   ]
  },
  {
   "cell_type": "code",
   "execution_count": 40,
   "metadata": {},
   "outputs": [
    {
     "name": "stderr",
     "output_type": "stream",
     "text": [
      "/home/sherman-tay/anaconda3/lib/python3.6/site-packages/scipy/signal/signaltools.py:375: FutureWarning: Conversion of the second argument of issubdtype from `complex` to `np.complexfloating` is deprecated. In future, it will be treated as `np.complex128 == np.dtype(complex).type`.\n",
      "  complex_result = (np.issubdtype(in1.dtype, complex) or\n",
      "/home/sherman-tay/anaconda3/lib/python3.6/site-packages/scipy/signal/signaltools.py:376: FutureWarning: Conversion of the second argument of issubdtype from `complex` to `np.complexfloating` is deprecated. In future, it will be treated as `np.complex128 == np.dtype(complex).type`.\n",
      "  np.issubdtype(in2.dtype, complex))\n"
     ]
    },
    {
     "data": {
      "text/plain": [
       "[<matplotlib.lines.Line2D at 0x7f2519177eb8>]"
      ]
     },
     "execution_count": 40,
     "metadata": {},
     "output_type": "execute_result"
    },
    {
     "data": {
      "image/png": "[encoded data removed]",
      "text/plain": [
       "<matplotlib.figure.Figure at 0x7f251920b978>"
      ]
     },
     "metadata": {},
     "output_type": "display_data"
    }
   ],
   "source": [
    "# Your code\n",
    "\n",
    "NRZI_demod = nc_afsk1200Demod(sig)\n",
    "fig = figure(figsize=(16,4))\n",
    "plt.plot(NRZI_demod)\n",
    "\n"
   ]
  },
  {
   "cell_type": "markdown",
   "metadata": {},
   "source": [
    "### Decoding Bits from the Demodulated NRZI Signal\n",
    "\n",
    "Once we demodulated the signal, the next task is to sample and look for packets in it! There are many ways to do so. We chose one similar to the DireWolfe implementation:\n",
    "\n",
    "* Use the PLL to determine where to sample and get an output NRZI bitstream.\n",
    "* Convert the NRZI to NRZ\n",
    "* Search the bits and look for flags that indicate the existance of a packet. Of course, there may be many false detection. Hence, consider any flag is end of a packet, or beginning of a new one.\n",
    "* Discard packets that are too short, or that the checksum does not match.\n",
    "\n",
    "Below are several functions we wrote for you:\n",
    "\n",
    "* `findPackets(bits)` - Searches a bitstream for possible valid packets\n",
    "* `genfcs(bits)` - generates a checksum for validating packets\n",
    "* `decodeAX25(bits)`  - Parses a packet bitstream into fields and decodes them\n",
    "\n",
    "Study well these functions, and in particularly `findPackets(bits)`. You will need to modify it when performing stream processing.\n"
   ]
  },
  {
   "cell_type": "code",
   "execution_count": 41,
   "metadata": {
    "collapsed": true
   },
   "outputs": [],
   "source": [
    "def findPackets(bits):\n",
    "        # function take a bitarray and looks for AX.25 packets in it. \n",
    "        # It implements a 2-state machine of searching for flag or collecting packets\n",
    "                \n",
    "        flg = bitarray.bitarray([0,1,1,1,1,1,1,0])\n",
    "        packets = []\n",
    "        n = 0\n",
    "        pktcounter = 0\n",
    "        packet = []\n",
    "        state = 'search'\n",
    "        \n",
    "        # Loop over bits\n",
    "        while (n < len(bits)-7) :\n",
    "            \n",
    "            # default state is searching for packets\n",
    "            if state is 'search':\n",
    "                \n",
    "                # look for 1111110, because can't be sure if the first zero is decoded\n",
    "                # well or if the packet is not padded.\n",
    "                if bits[n:n+7] == flg[1:]:\n",
    "                    \n",
    "                    # flag detected, so switch state to collecting bits in a packet\n",
    "                    # start by copying the flag to the packet\n",
    "                    # start counter to count the number of bits in the packet\n",
    "                    state = 'pkt'\n",
    "                    packet=flg.copy()\n",
    "                    pktcounter = 8                    \n",
    "                    # Advance to the end of the flag\n",
    "                    n = n + 7\n",
    "                else:\n",
    "                    # flag was not found, advance by 1\n",
    "                    n = n + 1            \n",
    "        \n",
    "            # state is to collect packet data. \n",
    "            elif state is 'pkt':\n",
    "                \n",
    "                # Check if we reached a flag by comparing with 0111111\n",
    "                # 6 times ones is not allowed in a packet, hence it must be a flag (if there's no error)\n",
    "                if bits[n:n+7] == flg[:7]:\n",
    "                    # Flag detected, check if packet is longer than some minimum\n",
    "                    if pktcounter > 200:\n",
    "                        # End of packet reached! append packet to list and switch to searching state\n",
    "                        # We don't advance pointer since this our packet might have been\n",
    "                        # false detection and this flag could be the beginning of a real packet\n",
    "                        state = 'search'\n",
    "                        packet.extend(flg)\n",
    "                        packets.append(packet.copy())\n",
    "                    else:\n",
    "                        # packet is too short! false alarm. Keep searching \n",
    "                        # We don't advance pointer since this this flag could be the beginning of a real packet\n",
    "                        state = 'search'\n",
    "                # No flag, so collect the bit and add to the packet\n",
    "                else:\n",
    "                    # check if packet is too long... if so, must be false alarm\n",
    "                    if pktcounter < 2680:\n",
    "                        # Not a false alarm, collect the bit and advance pointer                        \n",
    "                        packet.append(bits[n])\n",
    "                        pktcounter = pktcounter + 1\n",
    "                        n = n + 1\n",
    "                    else:  \n",
    "                        #runaway packet, switch state to searching, and advance pointer\n",
    "                        state = 'search'\n",
    "                        n = n + 1\n",
    "        return packets\n",
    "\n",
    "\n",
    "\n",
    "\n",
    "# function to generate a checksum for validating packets\n",
    "def genfcs(bits):\n",
    "    # Generates a checksum from packet bits\n",
    "    fcs = ax25.FCS()\n",
    "    for bit in bits:\n",
    "        fcs.update_bit(bit)\n",
    "    \n",
    "    digest = bitarray.bitarray(endian=\"little\")\n",
    "    digest.frombytes(fcs.digest())\n",
    "\n",
    "    return digest\n",
    "\n",
    "\n",
    "\n",
    "\n",
    "# function to parse packet bits to information\n",
    "def decodeAX25(bits):\n",
    "    ax = ax25.AX25()\n",
    "    ax.info = \"bad packet\"\n",
    "    \n",
    "    \n",
    "    # bits without pre/post - ambles\n",
    "    bitsu = ax25.bit_unstuff(bits[8:-8])\n",
    "    \n",
    "    if (genfcs(bitsu[:-16]).tobytes() == bitsu[-16:].tobytes()) == False:\n",
    "        #print(\"failed fcs\")\n",
    "        return ax\n",
    "    \n",
    "    bytes = bitsu.tobytes()\n",
    "    ax.destination = ax.callsign_decode(bitsu[:56]).decode('ascii')\n",
    "    source = ax.callsign_decode(bitsu[56:112]).decode('ascii')\n",
    "    \n",
    "    if source[-1].isdigit() and source[-1]!=\"0\":\n",
    "        ax.source = \"\".join((source[:-1],'-',source[-1]))\n",
    "    else:\n",
    "        ax.source = source[:-1]\n",
    "    \n",
    "    digilen=0    \n",
    "    \n",
    "    if bytes[14]=='\\x03' and bytes[15]=='\\xf0':\n",
    "        digilen = 0\n",
    "    else:\n",
    "        for n in range(14,len(bytes)-1):\n",
    "            if bytes[n] & 1:\n",
    "                digilen = (n-14)+1\n",
    "                break\n",
    "\n",
    "#    if digilen > 56:\n",
    "#        return ax\n",
    "    ax.digipeaters =  ax.callsign_decode(bitsu[112:112+digilen*8]).decode('ascii')\n",
    "    ax.info = bitsu[112+digilen*8+16:-16].tobytes().decode('ascii')\n",
    "    \n",
    "    return ax\n",
    "\n",
    "\n",
    "    \n"
   ]
  },
  {
   "cell_type": "markdown",
   "metadata": {},
   "source": [
    "#### Task:\n",
    "\n",
    "* Use the pll to find the sampling index of the analog NRZI\n",
    "* Sample and convert to a bitarray (True is positive NRZI, False is negative NRZI)\n",
    "* Convert the NRZI bits to NRZ\n",
    "* Use `findPackets` to find packet in the bitstream\n",
    "\n",
    "You should get this when decoding properly:\n",
    "\n",
    "`1) |DEST:CQ     |SRC:RS0ISS |DIGI: |>ARISS - International Space Station|`"
   ]
  },
  {
   "cell_type": "code",
   "execution_count": 42,
   "metadata": {},
   "outputs": [
    {
     "name": "stdout",
     "output_type": "stream",
     "text": [
      "[bitarray('0111111001100001010001010000001000000010000000100000001000000110001001010110010100000110010010010110010101100101100001111100000000000111101111100010000010010010101001001011001010110010100000010010110100000001001001001001110110001011101010011001001110011101101000011000101110100101101111011001110110100001100011011000000100110010100000111010000110110001101010011000000100110010100010111010000110001011101001011011110110011101101101111100010000101111110')]\n"
     ]
    },
    {
     "name": "stderr",
     "output_type": "stream",
     "text": [
      "/home/sherman-tay/anaconda3/lib/python3.6/site-packages/ipykernel_launcher.py:80: RuntimeWarning: overflow encountered in int_scalars\n"
     ]
    }
   ],
   "source": [
    "#my code\n",
    "idx=PLL(NRZI_demod)\n",
    "idx1=np.int64(idx)\n",
    "NRZI_sampled = []\n",
    "#sample and convert to boolean\n",
    "\n",
    "for i in range(len(idx1)):\n",
    "    if NRZI_demod[idx1[i]] >0:\n",
    "        NRZI_sampled.insert(len(NRZI_sampled),1)\n",
    "    if NRZI_demod[idx1[i]] < 0:\n",
    "        NRZI_sampled.insert(len(NRZI_sampled),0)\n",
    "#convert to bitarray\n",
    "NRZI_bitarray=bitarray.bitarray(NRZI_sampled)\n",
    "#convert to NRZ\n",
    "NRZ_bitarray = NRZI2NRZ(NRZI_bitarray)\n",
    "#find packets\n",
    "packets = findPackets(NRZ_bitarray)\n",
    "print(packets)\n",
    "\n",
    "\n",
    "\n"
   ]
  },
  {
   "cell_type": "code",
   "execution_count": 43,
   "metadata": {},
   "outputs": [
    {
     "name": "stdout",
     "output_type": "stream",
     "text": [
      " 1) | DEST: CQ    0 | SRC: RS0ISS | DIGI: \u0001 | ARISS - International Space Station |\n"
     ]
    }
   ],
   "source": [
    "# Code to display packets\n",
    "\n",
    "\n",
    "npack = 0\n",
    "for pkt in packets:\n",
    "        if len(pkt) > 200: \n",
    "            ax = decodeAX25(pkt)\n",
    "            if ax.info != 'bad packet':\n",
    "                npack = npack+1\n",
    "                infostr = \"%(n) 2i) | DEST: %(dest)s | SRC: %(src)s | DIGI: %(digi)s | %(info)s |\" % {\n",
    "                        'n': npack,\n",
    "                        'dest': ax.destination,\n",
    "                        'src': ax.source,\n",
    "                        'digi': ax.digipeaters,\n",
    "                        'info': ax.info.strip()\n",
    "                }\n",
    "                print(infostr)\n",
    "            if ax.info == 'bad packet':\n",
    "                print('bad packet')"
   ]
  },
  {
   "cell_type": "markdown",
   "metadata": {},
   "source": [
    "### Testing on more packets\n",
    "\n",
    "Now, lets try our decoder on a noisy recording with many more packets. \n",
    "\n",
    "#### Task:\n",
    "* Load the full recording of the pass, which is stored in `ISS.wav`. It's a 3min recording.   \n",
    "* Process the signal and decode all the packets. My decoder decodes 24 packets successfully\n",
    "\n",
    "\n",
    "##### In python, implementing the PLL with for loops is inefficient. You can still run your own PLL, but the processing time may be too long. Instead, we wrote a simple C function, which runs incredibly fast. We use the ctypes interace to call the C function from python.  Below is the code necessary to run the fast PLL.  FastPLL can replace the PLL you wrote. Make sure libpll.so is in your operating directory. Take a look at pll.c to see how it was implemented. It is very similar to the python version. "
   ]
  },
  {
   "cell_type": "code",
   "execution_count": 50,
   "metadata": {},
   "outputs": [
    {
     "ename": "OSError",
     "evalue": "/home/sherman-tay/ee123-123/ee123-labs/lab5/./libpll.so: wrong ELF class: ELFCLASS32",
     "output_type": "error",
     "traceback": [
      "\u001b[0;31m---------------------------------------------------------------------------\u001b[0m",
      "\u001b[0;31mOSError\u001b[0m                                   Traceback (most recent call last)",
      "\u001b[0;32m<ipython-input-50-31ad503189ff>\u001b[0m in \u001b[0;36m<module>\u001b[0;34m()\u001b[0m\n\u001b[1;32m      5\u001b[0m \u001b[0marray_1d_int\u001b[0m \u001b[0;34m=\u001b[0m \u001b[0mnpct\u001b[0m\u001b[0;34m.\u001b[0m\u001b[0mndpointer\u001b[0m\u001b[0;34m(\u001b[0m\u001b[0mdtype\u001b[0m\u001b[0;34m=\u001b[0m\u001b[0mnp\u001b[0m\u001b[0;34m.\u001b[0m\u001b[0mint\u001b[0m\u001b[0;34m,\u001b[0m \u001b[0mndim\u001b[0m\u001b[0;34m=\u001b[0m\u001b[0;36m1\u001b[0m\u001b[0;34m,\u001b[0m \u001b[0mflags\u001b[0m\u001b[0;34m=\u001b[0m\u001b[0;34m'CONTIGUOUS'\u001b[0m\u001b[0;34m)\u001b[0m\u001b[0;34m\u001b[0m\u001b[0m\n\u001b[1;32m      6\u001b[0m \u001b[0;34m\u001b[0m\u001b[0m\n\u001b[0;32m----> 7\u001b[0;31m \u001b[0mlibcd\u001b[0m \u001b[0;34m=\u001b[0m \u001b[0mnpct\u001b[0m\u001b[0;34m.\u001b[0m\u001b[0mload_library\u001b[0m\u001b[0;34m(\u001b[0m\u001b[0;34m\"./libpll\"\u001b[0m\u001b[0;34m,\u001b[0m \u001b[0;34m\".\"\u001b[0m\u001b[0;34m)\u001b[0m\u001b[0;34m\u001b[0m\u001b[0m\n\u001b[0m\u001b[1;32m      8\u001b[0m \u001b[0mlibcd\u001b[0m\u001b[0;34m.\u001b[0m\u001b[0mpll\u001b[0m\u001b[0;34m.\u001b[0m\u001b[0mrestype\u001b[0m \u001b[0;34m=\u001b[0m \u001b[0mc_int\u001b[0m\u001b[0;34m\u001b[0m\u001b[0m\n\u001b[1;32m      9\u001b[0m \u001b[0mlibcd\u001b[0m\u001b[0;34m.\u001b[0m\u001b[0mpll\u001b[0m\u001b[0;34m.\u001b[0m\u001b[0margtypes\u001b[0m\u001b[0;34m=\u001b[0m \u001b[0;34m[\u001b[0m\u001b[0marray_1d_int\u001b[0m\u001b[0;34m,\u001b[0m \u001b[0mc_int\u001b[0m\u001b[0;34m,\u001b[0m \u001b[0marray_1d_int\u001b[0m\u001b[0;34m,\u001b[0m\u001b[0marray_1d_int\u001b[0m\u001b[0;34m,\u001b[0m  \u001b[0marray_1d_int\u001b[0m\u001b[0;34m,\u001b[0m\u001b[0marray_1d_int\u001b[0m\u001b[0;34m,\u001b[0m \u001b[0mc_int\u001b[0m\u001b[0;34m,\u001b[0m \u001b[0mc_float\u001b[0m\u001b[0;34m]\u001b[0m\u001b[0;34m\u001b[0m\u001b[0m\n",
      "\u001b[0;32m~/anaconda3/lib/python3.6/site-packages/numpy/ctypeslib.py\u001b[0m in \u001b[0;36mload_library\u001b[0;34m(libname, loader_path)\u001b[0m\n\u001b[1;32m    148\u001b[0m             \u001b[0;32mif\u001b[0m \u001b[0mos\u001b[0m\u001b[0;34m.\u001b[0m\u001b[0mpath\u001b[0m\u001b[0;34m.\u001b[0m\u001b[0mexists\u001b[0m\u001b[0;34m(\u001b[0m\u001b[0mlibpath\u001b[0m\u001b[0;34m)\u001b[0m\u001b[0;34m:\u001b[0m\u001b[0;34m\u001b[0m\u001b[0m\n\u001b[1;32m    149\u001b[0m                 \u001b[0;32mtry\u001b[0m\u001b[0;34m:\u001b[0m\u001b[0;34m\u001b[0m\u001b[0m\n\u001b[0;32m--> 150\u001b[0;31m                     \u001b[0;32mreturn\u001b[0m \u001b[0mctypes\u001b[0m\u001b[0;34m.\u001b[0m\u001b[0mcdll\u001b[0m\u001b[0;34m[\u001b[0m\u001b[0mlibpath\u001b[0m\u001b[0;34m]\u001b[0m\u001b[0;34m\u001b[0m\u001b[0m\n\u001b[0m\u001b[1;32m    151\u001b[0m                 \u001b[0;32mexcept\u001b[0m \u001b[0mOSError\u001b[0m\u001b[0;34m:\u001b[0m\u001b[0;34m\u001b[0m\u001b[0m\n\u001b[1;32m    152\u001b[0m                     \u001b[0;31m## defective lib file\u001b[0m\u001b[0;34m\u001b[0m\u001b[0;34m\u001b[0m\u001b[0m\n",
      "\u001b[0;32m~/anaconda3/lib/python3.6/ctypes/__init__.py\u001b[0m in \u001b[0;36m__getitem__\u001b[0;34m(self, name)\u001b[0m\n\u001b[1;32m    421\u001b[0m \u001b[0;34m\u001b[0m\u001b[0m\n\u001b[1;32m    422\u001b[0m     \u001b[0;32mdef\u001b[0m \u001b[0m__getitem__\u001b[0m\u001b[0;34m(\u001b[0m\u001b[0mself\u001b[0m\u001b[0;34m,\u001b[0m \u001b[0mname\u001b[0m\u001b[0;34m)\u001b[0m\u001b[0;34m:\u001b[0m\u001b[0;34m\u001b[0m\u001b[0m\n\u001b[0;32m--> 423\u001b[0;31m         \u001b[0;32mreturn\u001b[0m \u001b[0mgetattr\u001b[0m\u001b[0;34m(\u001b[0m\u001b[0mself\u001b[0m\u001b[0;34m,\u001b[0m \u001b[0mname\u001b[0m\u001b[0;34m)\u001b[0m\u001b[0;34m\u001b[0m\u001b[0m\n\u001b[0m\u001b[1;32m    424\u001b[0m \u001b[0;34m\u001b[0m\u001b[0m\n\u001b[1;32m    425\u001b[0m     \u001b[0;32mdef\u001b[0m \u001b[0mLoadLibrary\u001b[0m\u001b[0;34m(\u001b[0m\u001b[0mself\u001b[0m\u001b[0;34m,\u001b[0m \u001b[0mname\u001b[0m\u001b[0;34m)\u001b[0m\u001b[0;34m:\u001b[0m\u001b[0;34m\u001b[0m\u001b[0m\n",
      "\u001b[0;32m~/anaconda3/lib/python3.6/ctypes/__init__.py\u001b[0m in \u001b[0;36m__getattr__\u001b[0;34m(self, name)\u001b[0m\n\u001b[1;32m    416\u001b[0m         \u001b[0;32mif\u001b[0m \u001b[0mname\u001b[0m\u001b[0;34m[\u001b[0m\u001b[0;36m0\u001b[0m\u001b[0;34m]\u001b[0m \u001b[0;34m==\u001b[0m \u001b[0;34m'_'\u001b[0m\u001b[0;34m:\u001b[0m\u001b[0;34m\u001b[0m\u001b[0m\n\u001b[1;32m    417\u001b[0m             \u001b[0;32mraise\u001b[0m \u001b[0mAttributeError\u001b[0m\u001b[0;34m(\u001b[0m\u001b[0mname\u001b[0m\u001b[0;34m)\u001b[0m\u001b[0;34m\u001b[0m\u001b[0m\n\u001b[0;32m--> 418\u001b[0;31m         \u001b[0mdll\u001b[0m \u001b[0;34m=\u001b[0m \u001b[0mself\u001b[0m\u001b[0;34m.\u001b[0m\u001b[0m_dlltype\u001b[0m\u001b[0;34m(\u001b[0m\u001b[0mname\u001b[0m\u001b[0;34m)\u001b[0m\u001b[0;34m\u001b[0m\u001b[0m\n\u001b[0m\u001b[1;32m    419\u001b[0m         \u001b[0msetattr\u001b[0m\u001b[0;34m(\u001b[0m\u001b[0mself\u001b[0m\u001b[0;34m,\u001b[0m \u001b[0mname\u001b[0m\u001b[0;34m,\u001b[0m \u001b[0mdll\u001b[0m\u001b[0;34m)\u001b[0m\u001b[0;34m\u001b[0m\u001b[0m\n\u001b[1;32m    420\u001b[0m         \u001b[0;32mreturn\u001b[0m \u001b[0mdll\u001b[0m\u001b[0;34m\u001b[0m\u001b[0m\n",
      "\u001b[0;32m~/anaconda3/lib/python3.6/ctypes/__init__.py\u001b[0m in \u001b[0;36m__init__\u001b[0;34m(self, name, mode, handle, use_errno, use_last_error)\u001b[0m\n\u001b[1;32m    346\u001b[0m \u001b[0;34m\u001b[0m\u001b[0m\n\u001b[1;32m    347\u001b[0m         \u001b[0;32mif\u001b[0m \u001b[0mhandle\u001b[0m \u001b[0;32mis\u001b[0m \u001b[0;32mNone\u001b[0m\u001b[0;34m:\u001b[0m\u001b[0;34m\u001b[0m\u001b[0m\n\u001b[0;32m--> 348\u001b[0;31m             \u001b[0mself\u001b[0m\u001b[0;34m.\u001b[0m\u001b[0m_handle\u001b[0m \u001b[0;34m=\u001b[0m \u001b[0m_dlopen\u001b[0m\u001b[0;34m(\u001b[0m\u001b[0mself\u001b[0m\u001b[0;34m.\u001b[0m\u001b[0m_name\u001b[0m\u001b[0;34m,\u001b[0m \u001b[0mmode\u001b[0m\u001b[0;34m)\u001b[0m\u001b[0;34m\u001b[0m\u001b[0m\n\u001b[0m\u001b[1;32m    349\u001b[0m         \u001b[0;32melse\u001b[0m\u001b[0;34m:\u001b[0m\u001b[0;34m\u001b[0m\u001b[0m\n\u001b[1;32m    350\u001b[0m             \u001b[0mself\u001b[0m\u001b[0;34m.\u001b[0m\u001b[0m_handle\u001b[0m \u001b[0;34m=\u001b[0m \u001b[0mhandle\u001b[0m\u001b[0;34m\u001b[0m\u001b[0m\n",
      "\u001b[0;31mOSError\u001b[0m: /home/sherman-tay/ee123-123/ee123-labs/lab5/./libpll.so: wrong ELF class: ELFCLASS32"
     ]
    }
   ],
   "source": [
    "import numpy.ctypeslib as npct\n",
    "from ctypes import c_int\n",
    "from ctypes import c_float\n",
    "\n",
    "array_1d_int = npct.ndpointer(dtype=np.int, ndim=1, flags='CONTIGUOUS')\n",
    "\n",
    "libcd = npct.load_library(\"./libpll\", \".\")\n",
    "libcd.pll.restype = c_int\n",
    "libcd.pll.argtypes= [array_1d_int, c_int, array_1d_int,array_1d_int,  array_1d_int,array_1d_int, c_int, c_float]"
   ]
  },
  {
   "cell_type": "code",
   "execution_count": 46,
   "metadata": {
    "collapsed": true
   },
   "outputs": [],
   "source": [
    "def FastPLL(NRZa, a = 0.74 , fs = 44100, baud = 1200):    \n",
    "    \n",
    "    Ns = 1.0*fs/baud\n",
    "    dpll = np.round(2**32 / Ns).astype(np.int32)\n",
    "    \n",
    "    # allocate space for arrays and initialize pll variables\n",
    "    recbits = np.zeros(len(NRZa)//(fs//1200)*2,dtype=np.int32)\n",
    "    idx = np.zeros(len(NRZa)//(fs//1200)*2,dtype=np.int32)\n",
    "    pll = np.zeros(1,dtype = np.int32)\n",
    "    pll[0] = 0\n",
    "    ppll = np.zeros(1,dtype = np.int32)\n",
    "    ppll[0] =  -dpll\n",
    "        \n",
    "        \n",
    "        \n",
    "    NRZb = (NRZa > 0).astype(np.int32)\n",
    "    tot = libcd.pll(NRZb,len(NRZb),recbits,idx,pll,ppll,dpll,a)\n",
    "        \n",
    "    return idx[:tot].tolist()"
   ]
  },
  {
   "cell_type": "code",
   "execution_count": 48,
   "metadata": {},
   "outputs": [
    {
     "ename": "NameError",
     "evalue": "name 'libcd' is not defined",
     "output_type": "error",
     "traceback": [
      "\u001b[0;31m---------------------------------------------------------------------------\u001b[0m",
      "\u001b[0;31mNameError\u001b[0m                                 Traceback (most recent call last)",
      "\u001b[0;32m<ipython-input-48-371bb583486c>\u001b[0m in \u001b[0;36m<module>\u001b[0;34m()\u001b[0m\n\u001b[1;32m      1\u001b[0m \u001b[0mfs\u001b[0m\u001b[0;34m,\u001b[0m \u001b[0msig\u001b[0m \u001b[0;34m=\u001b[0m \u001b[0mwavread\u001b[0m\u001b[0;34m(\u001b[0m\u001b[0;34m\"ISS.wav\"\u001b[0m\u001b[0;34m)\u001b[0m\u001b[0;34m\u001b[0m\u001b[0m\n\u001b[1;32m      2\u001b[0m \u001b[0;34m\u001b[0m\u001b[0m\n\u001b[0;32m----> 3\u001b[0;31m \u001b[0midx\u001b[0m\u001b[0;34m=\u001b[0m\u001b[0mFastPLL\u001b[0m\u001b[0;34m(\u001b[0m\u001b[0msig\u001b[0m\u001b[0;34m)\u001b[0m\u001b[0;34m\u001b[0m\u001b[0m\n\u001b[0m\u001b[1;32m      4\u001b[0m \u001b[0midx1\u001b[0m\u001b[0;34m=\u001b[0m\u001b[0mnp\u001b[0m\u001b[0;34m.\u001b[0m\u001b[0mint64\u001b[0m\u001b[0;34m(\u001b[0m\u001b[0midx\u001b[0m\u001b[0;34m)\u001b[0m\u001b[0;34m\u001b[0m\u001b[0m\n\u001b[1;32m      5\u001b[0m \u001b[0mNRZI_sampled\u001b[0m \u001b[0;34m=\u001b[0m \u001b[0;34m[\u001b[0m\u001b[0;34m]\u001b[0m\u001b[0;34m\u001b[0m\u001b[0m\n",
      "\u001b[0;32m<ipython-input-46-ff607e775262>\u001b[0m in \u001b[0;36mFastPLL\u001b[0;34m(NRZa, a, fs, baud)\u001b[0m\n\u001b[1;32m     15\u001b[0m \u001b[0;34m\u001b[0m\u001b[0m\n\u001b[1;32m     16\u001b[0m     \u001b[0mNRZb\u001b[0m \u001b[0;34m=\u001b[0m \u001b[0;34m(\u001b[0m\u001b[0mNRZa\u001b[0m \u001b[0;34m>\u001b[0m \u001b[0;36m0\u001b[0m\u001b[0;34m)\u001b[0m\u001b[0;34m.\u001b[0m\u001b[0mastype\u001b[0m\u001b[0;34m(\u001b[0m\u001b[0mnp\u001b[0m\u001b[0;34m.\u001b[0m\u001b[0mint32\u001b[0m\u001b[0;34m)\u001b[0m\u001b[0;34m\u001b[0m\u001b[0m\n\u001b[0;32m---> 17\u001b[0;31m     \u001b[0mtot\u001b[0m \u001b[0;34m=\u001b[0m \u001b[0mlibcd\u001b[0m\u001b[0;34m.\u001b[0m\u001b[0mpll\u001b[0m\u001b[0;34m(\u001b[0m\u001b[0mNRZb\u001b[0m\u001b[0;34m,\u001b[0m\u001b[0mlen\u001b[0m\u001b[0;34m(\u001b[0m\u001b[0mNRZb\u001b[0m\u001b[0;34m)\u001b[0m\u001b[0;34m,\u001b[0m\u001b[0mrecbits\u001b[0m\u001b[0;34m,\u001b[0m\u001b[0midx\u001b[0m\u001b[0;34m,\u001b[0m\u001b[0mpll\u001b[0m\u001b[0;34m,\u001b[0m\u001b[0mppll\u001b[0m\u001b[0;34m,\u001b[0m\u001b[0mdpll\u001b[0m\u001b[0;34m,\u001b[0m\u001b[0ma\u001b[0m\u001b[0;34m)\u001b[0m\u001b[0;34m\u001b[0m\u001b[0m\n\u001b[0m\u001b[1;32m     18\u001b[0m \u001b[0;34m\u001b[0m\u001b[0m\n\u001b[1;32m     19\u001b[0m     \u001b[0;32mreturn\u001b[0m \u001b[0midx\u001b[0m\u001b[0;34m[\u001b[0m\u001b[0;34m:\u001b[0m\u001b[0mtot\u001b[0m\u001b[0;34m]\u001b[0m\u001b[0;34m.\u001b[0m\u001b[0mtolist\u001b[0m\u001b[0;34m(\u001b[0m\u001b[0;34m)\u001b[0m\u001b[0;34m\u001b[0m\u001b[0m\n",
      "\u001b[0;31mNameError\u001b[0m: name 'libcd' is not defined"
     ]
    }
   ],
   "source": [
    "fs, sig = wavread(\"ISS.wav\")\n",
    "\n",
    "idx=FastPLL(sig)\n",
    "idx1=np.int64(idx)\n",
    "NRZI_sampled = []\n",
    "#sample and convert to boolean\n",
    "\n",
    "for i in range(len(idx1)):\n",
    "    if sig[idx1[i]] >0:\n",
    "        NRZI_sampled.insert(len(NRZI_sampled),1)\n",
    "    if sig[idx1[i]] < 0:\n",
    "        NRZI_sampled.insert(len(NRZI_sampled),0)\n",
    "#convert to bitarray\n",
    "NRZI_bitarray=bitarray.bitarray(NRZI_sampled)\n",
    "#convert to NRZ\n",
    "NRZ_bitarray = NRZI2NRZ(NRZI_bitarray)\n",
    "#find packets\n",
    "packets = findPackets(NRZ_bitarray)\n",
    "print(packets)\n",
    "\n",
    "\n",
    "\n"
   ]
  },
  {
   "cell_type": "code",
   "execution_count": 62,
   "metadata": {
    "collapsed": true
   },
   "outputs": [],
   "source": [
    "# display packets\n",
    "\n",
    "npack = 0\n",
    "for pkt in packets:\n",
    "        if len(pkt) > 200: \n",
    "            ax = decodeAX25(pkt)\n",
    "            if ax.info != 'bad packet':\n",
    "                npack = npack+1\n",
    "                # print(str(npack)+\") |DEST:\"+ax.destination[:-1]+\" |SRC:\" + ax.source + \" |DIGI:\" + ax.digipeaters + \" |\" + ax.info + \"|\")\n",
    "                infostr = \"%(n) 2i) | DEST: %(dest)s | SRC: %(src)s | DIGI: %(digi)s | %(info)s |\" % {\n",
    "                        'n': npack,\n",
    "                        'dest': ax.destination,\n",
    "                        'src': ax.source,\n",
    "                        'digi': ax.digipeaters,\n",
    "                        'info': ax.info.strip()\n",
    "                    }\n",
    "                print(infostr)\n",
    "\n"
   ]
  },
  {
   "cell_type": "markdown",
   "metadata": {},
   "source": [
    "#### did you get 24 packets?\n",
    "\n",
    "\n",
    "### Test Loop-back audio\n",
    "\n",
    "The next step would be to test a loop-back in which we send audio through the USB audio device when its output and input are connected through a cable. To do so, \n",
    "\n",
    "#### Task:\n",
    "#### New Interface:\n",
    "* just connect an audio cable between the input and output of the USB audio, making a loop-back.\n",
    "\n",
    "\n",
    "#### Old Interface\n",
    "* Carefully pull the USB audio device out of the USB hub\n",
    "* Carefully disconnect the yellow jack that is connected to the microphone input to the USB. **Don't pull on the cable**, try to pull on the jack itself while holding the USB audio with the other hand.\n",
    "* Look at the radio audio connector. It has two jacks. One is 3.5mm and the other 2.5mm. Stick the 3.5mm in the microphone slot of the USB audio. \n",
    "* Carefully put the USB audio back in place. You have now a loopback! You can use it later to test your real-time system.\n",
    "\n",
    "This should look like this pictude below:\n",
    "\n",
    "<center><img src=\"https://inst.eecs.berkeley.edu/~ee123/sp16/lab/lab5/loopback.jpg\" alt=\"loopback\" style=\"width: 400px;\"/></center>\n",
    "\n",
    "\n",
    "##### *****Alternative setup:  If you are working with a partner, connect your jack into your partner USB audio and vice versa. Try to pass the packets to your partner. \n"
   ]
  },
  {
   "cell_type": "markdown",
   "metadata": {},
   "source": [
    "#### Task:\n",
    "\n",
    "* Generate 3 flag-padded packets, with **different** information in them. Have at least 40 flags before and after a packet. \n",
    "* Create the afsk1200 signal for each of the packets. \n",
    "\n",
    "\n"
   ]
  },
  {
   "cell_type": "code",
   "execution_count": 64,
   "metadata": {
    "collapsed": true
   },
   "outputs": [],
   "source": [
    "callsign ='KM6QHB'        # your callsign -- for example mine would be \"KK6MRI\"\n",
    "Digi =b'WIDE1-1,WIDE2-1'\n",
    "dest = \"APCAL\"\n",
    "\n",
    "# Uncomment to Send Email\n",
    "info1 = \":EMAIL    :shermantay@berkeley.edu Hi, its Sherman, what a great lab!\"\n",
    "\n",
    "# Uncomment to Send an SMS message to a phone number (update the number!)\n",
    "info2 = \":SMSGTE  :@5105618142 This is a text message from my radio\"\n",
    "\n",
    "# Uncomment to tweet on @hamradiotweets account on twittr \n",
    "#info = \":TWITR    :I am doing lab 5 in EE123 class at UC Berkeley. Awesome class\"\n",
    "\n",
    "\n",
    "#uncomment to show yourself on mt everest\n",
    "#info = \"=2759.16N/08655.30E[I'm on the top of the world\"\n",
    "\n",
    "#uncomment to send to everyone on the APRS system near you\n",
    "info3 = \":ALL      : CQCQCQ I would like to talk to you!\"\n",
    "\n",
    "\n",
    "# uncomment to report position\n",
    "#info = \"=3752.50N/12215.43WlIm using a laptop in Cory Hall!\"\n",
    "\n",
    "# uncomment to send a status message\n",
    "#info = \">I like radios\"\n",
    "\n",
    "\n",
    "packet1 = ax25.UI(\n",
    "\t\tdestination=dest,\n",
    "\t\tsource=callsign, \n",
    "\t\tinfo=info1,\n",
    "\t\tdigipeaters=Digi.split(b','),\n",
    "        )\n",
    "packet2 = ax25.UI(\n",
    "\t\tdestination=dest,\n",
    "\t\tsource=callsign, \n",
    "\t\tinfo=info2,\n",
    "\t\tdigipeaters=Digi.split(b','),\n",
    "        )\n",
    "packet3 = ax25.UI(\n",
    "\t\tdestination=dest,\n",
    "\t\tsource=callsign, \n",
    "\t\tinfo=info3,\n",
    "\t\tdigipeaters=Digi.split(b','),\n",
    "        )\n",
    "\n",
    "prefix = bitarray.bitarray(np.tile([0,1,1,1,1,1,1,0],(40,)).tolist())\n",
    "suffix = bitarray.bitarray(np.tile([0,1,1,1,1,1,1,0],(40,)).tolist())\n",
    "msg1 = afsk1200(NRZ2NRZI(prefix+packet1.unparse()+suffix))\n",
    "msg2 = afsk1200(NRZ2NRZI(prefix+packet2.unparse()+suffix))\n",
    "msg3 = afsk1200(NRZ2NRZI(prefix+packet3.unparse()+suffix))\n",
    "\n",
    "\n"
   ]
  },
  {
   "cell_type": "code",
   "execution_count": null,
   "metadata": {
    "collapsed": true
   },
   "outputs": [],
   "source": [
    "\n",
    "\n",
    "\n",
    "\n",
    "\n",
    "\n",
    "\n",
    "\n"
   ]
  },
  {
   "cell_type": "markdown",
   "metadata": {},
   "source": [
    "#### Task:\n",
    "* use ``sd.playrec`` to play and record the packets. The audio level will be different to what you are used to with the radio -- so adjust accordingly. \n",
    "* Decode the the packets from the recording\n",
    "* Also, make a plot of the beginning 5000 samples of the audio recording. Make sure its not saturated!\n",
    "\n",
    "``sig = sd.playrec(msg*0.2,samplerate=48000,device=usb_idx,channels=1,blocking=True,dtype=np.float32)``"
   ]
  },
  {
   "cell_type": "code",
   "execution_count": 66,
   "metadata": {
    "collapsed": true
   },
   "outputs": [],
   "source": [
    "# Your code here\n",
    "sig1 = sd.playrec(msg1*0.2,samplerate=44100,device=usb_idx,channels=1,blocking=True,dtype=np.float32)\n",
    "sig2 = sd.playrec(msg2*0.2,samplerate=44100,device=usb_idx,channels=1,blocking=True,dtype=np.float32)\n",
    "sig3 = sd.playrec(msg3*0.2,samplerate=44100,device=usb_idx,channels=1,blocking=True,dtype=np.float32)\n",
    "\n",
    "\n",
    "\n",
    "\n"
   ]
  },
  {
   "cell_type": "code",
   "execution_count": null,
   "metadata": {
    "collapsed": true
   },
   "outputs": [],
   "source": [
    "idx1=FastPLL(sig1)\n",
    "idx1=np.int64(idx1)\n",
    "NRZI_sampled1 = []\n",
    "#sample and convert to boolean\n",
    "\n",
    "for i in range(len(idx1)):\n",
    "    if sig1[idx1[i]] >0:\n",
    "        NRZI_sampled1.insert(len(NRZI_sampled1),1)\n",
    "    if sig1[idx1[i]] < 0:\n",
    "        NRZI_sampled1.insert(len(NRZI_sampled1),0)\n",
    "#convert to bitarray\n",
    "NRZI_bitarray1=bitarray.bitarray(NRZI_sampled1)\n",
    "#convert to NRZ\n",
    "NRZ_bitarray1 = NRZI2NRZ(NRZI_bitarray1)\n",
    "#find packets\n",
    "packets1 = findPackets(NRZ_bitarray1)\n",
    "print(packets1)\n"
   ]
  },
  {
   "cell_type": "code",
   "execution_count": null,
   "metadata": {
    "collapsed": true
   },
   "outputs": [],
   "source": [
    "idx2=FastPLL(sig2)\n",
    "idx2=np.int64(idx2)\n",
    "NRZI_sampled2 = []\n",
    "#sample and convert to boolean\n",
    "\n",
    "for i in range(len(idx2)):\n",
    "    if sig2[idx2[i]] >0:\n",
    "        NRZI_sampled2.insert(len(NRZI_sampled2),1)\n",
    "    if sig3[idx2[i]] < 0:\n",
    "        NRZI_sampled2.insert(len(NRZI_sampled2),0)\n",
    "#convert to bitarray\n",
    "NRZI_bitarray2=bitarray.bitarray(NRZI_sampled2)\n",
    "#convert to NRZ\n",
    "NRZ_bitarray2 = NRZI2NRZ(NRZI_bitarray2)\n",
    "#find packets\n",
    "packets2 = findPackets(NRZ_bitarray2)\n",
    "print(packets2)\n"
   ]
  },
  {
   "cell_type": "code",
   "execution_count": null,
   "metadata": {
    "collapsed": true
   },
   "outputs": [],
   "source": [
    "idx3=FastPLL(sig3)\n",
    "idx3=np.int64(idx3)\n",
    "NRZI_sampled3 = []\n",
    "#sample and convert to boolean\n",
    "\n",
    "for i in range(len(idx3)):\n",
    "    if sig3[idx3[i]] >0:\n",
    "        NRZI_sampled3.insert(len(NRZI_sampled3),1)\n",
    "    if sig3[idx3[i]] < 0:\n",
    "        NRZI_sampled3.insert(len(NRZI_sampled),0)\n",
    "#convert to bitarray\n",
    "NRZI_bitarray3=bitarray.bitarray(NRZI_sampled3)\n",
    "#convert to NRZ\n",
    "NRZ_bitarray3 = NRZI2NRZ(NRZI_bitarray3)\n",
    "#find packets\n",
    "packets3 = findPackets(NRZ_bitarray3)\n",
    "print(packets3)\n"
   ]
  },
  {
   "cell_type": "code",
   "execution_count": 51,
   "metadata": {},
   "outputs": [
    {
     "data": {
      "text/plain": [
       "array([1, 2, 3, 4, 5, 6, 7, 8, 9])"
      ]
     },
     "execution_count": 51,
     "metadata": {},
     "output_type": "execute_result"
    }
   ],
   "source": [
    "a = [1,2,3]\n",
    "b=[4,5,6]\n",
    "c=[7,8,9]\n",
    "np.concatenate((a,b,c))"
   ]
  },
  {
   "cell_type": "code",
   "execution_count": null,
   "metadata": {
    "collapsed": true
   },
   "outputs": [],
   "source": [
    "# display packets:\n",
    "packets = np.concatenate((packets1,packets2,packets3))\n",
    "\n",
    "npack = 0\n",
    "for pkt in packets:\n",
    "        if len(pkt) > 200: \n",
    "            ax = decodeAX25(pkt)\n",
    "            if ax.info != 'bad packet':\n",
    "                npack = npack+1\n",
    "                # print(str(npack)+\") |DEST:\"+ax.destination[:-1]+\" |SRC:\" + ax.source + \" |DIGI:\" + ax.digipeaters + \" |\" + ax.info + \"|\")\n",
    "                infostr = \"%(n) 2i) | DEST: %(dest)s | SRC: %(src)s | DIGI: %(digi)s | %(info)s |\" % {\n",
    "                        'n': npack,\n",
    "                        'dest': ax.destination,\n",
    "                        'src': ax.source,\n",
    "                        'digi': ax.digipeaters,\n",
    "                        'info': ax.info.strip()\n",
    "                    }\n",
    "                print(infostr)\n",
    "\n",
    "\n",
    "\n"
   ]
  },
  {
   "cell_type": "markdown",
   "metadata": {},
   "source": [
    "Congratulations,  you created a modem!\n",
    "\n",
    "\n",
    "## Next.... We will move to stream processing to make it useful."
   ]
  },
  {
   "cell_type": "code",
   "execution_count": null,
   "metadata": {
    "collapsed": true
   },
   "outputs": [],
   "source": []
  }
 ],
 "metadata": {
  "kernelspec": {
   "display_name": "Python 3",
   "language": "python",
   "name": "python3"
  },
  "language_info": {
   "codemirror_mode": {
    "name": "ipython",
    "version": 3
   },
   "file_extension": ".py",
   "mimetype": "text/x-python",
   "name": "python",
   "nbconvert_exporter": "python",
   "pygments_lexer": "ipython3",
   "version": "3.6.3"
  }
 },
 "nbformat": 4,
 "nbformat_minor": 1
}
