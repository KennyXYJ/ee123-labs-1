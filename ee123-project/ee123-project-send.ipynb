{
 "cells": [
  {
   "cell_type": "code",
   "execution_count": 1,
   "metadata": {},
   "outputs": [],
   "source": [
    "\n",
    "# Import functions and libraries\n",
    "import numpy as np\n",
    "import matplotlib.pyplot as plt\n",
    "import queue as Queue\n",
    "import time\n",
    "import sys\n",
    "#\n",
    "import io\n",
    "import TNCmodem as TNC\n",
    "#\n",
    "from numpy import pi\n",
    "from numpy import sin\n",
    "from numpy import zeros\n",
    "from numpy import r_\n",
    "from numpy import ones\n",
    "from scipy import signal\n",
    "from scipy import integrate\n",
    "import threading\n",
    "\n",
    "from numpy import mean\n",
    "from numpy import power\n",
    "from numpy.fft import fft\n",
    "from numpy.fft import fftshift\n",
    "from numpy.fft import ifft\n",
    "from numpy.fft import ifftshift\n",
    "import bitarray\n",
    "from  scipy.io.wavfile import read as wavread\n",
    "import newax25 as ax25\n",
    "\n",
    "import multiprocessing\n",
    "\n",
    "from math import gcd\n",
    "import sounddevice as sd\n",
    "import RPi.GPIO as GPIO\n",
    "from functools import reduce\n",
    "from numpy import ones,zeros, pi, cos, exp, sign"
   ]
  },
  {
   "cell_type": "code",
   "execution_count": 2,
   "metadata": {},
   "outputs": [],
   "source": [
    "from PIL import Image"
   ]
  },
  {
   "cell_type": "code",
   "execution_count": 3,
   "metadata": {},
   "outputs": [],
   "source": [
    "# function to compute least common multipler\n",
    "def lcm(numbers):\n",
    "    return reduce(lambda x, y: (x*y)//gcd(x,y), numbers, 1)"
   ]
  },
  {
   "cell_type": "code",
   "execution_count": 4,
   "metadata": {},
   "outputs": [
    {
     "data": {
      "text/plain": [
       "  0 bcm2835 ALSA: - (hw:0,0), ALSA (0 in, 2 out)\n",
       "  1 bcm2835 ALSA: IEC958/HDMI (hw:0,1), ALSA (0 in, 2 out)\n",
       "  2 USB Audio Device: - (hw:1,0), ALSA (1 in, 2 out)\n",
       "  3 sysdefault, ALSA (0 in, 128 out)\n",
       "  4 dmix, ALSA (0 in, 2 out)\n",
       "* 5 default, ALSA (1 in, 2 out)"
      ]
     },
     "execution_count": 4,
     "metadata": {},
     "output_type": "execute_result"
    }
   ],
   "source": [
    "sd.query_devices()"
   ]
  },
  {
   "cell_type": "code",
   "execution_count": 5,
   "metadata": {},
   "outputs": [],
   "source": [
    "builtin_idx = 0\n",
    "usb_idx = 2\n",
    "sd.default.samplerate=48000\n",
    "sd.default.channels = 1"
   ]
  },
  {
   "cell_type": "code",
   "execution_count": 6,
   "metadata": {},
   "outputs": [],
   "source": [
    "#initialize GPIO pins\n",
    "GPIO.setmode(GPIO.BOARD)\n",
    "\n",
    "PTT = 12\n",
    "GPIO.setup(PTT, GPIO.OUT, initial=0)\n"
   ]
  },
  {
   "cell_type": "code",
   "execution_count": 7,
   "metadata": {},
   "outputs": [],
   "source": [
    "def downsample(img, factor):\n",
    "    \"\"\"Takes in an Image object and int factor. It then downsamples and returns the downsampled image\"\"\"\n",
    "    np_img = np.array(img)\n",
    "    down = np_img[::factor,::factor,:]\n",
    "    down_img = Image.fromarray(down)\n",
    "    print(down.shape)\n",
    "    return down_img"
   ]
  },
  {
   "cell_type": "code",
   "execution_count": 8,
   "metadata": {},
   "outputs": [
    {
     "name": "stdout",
     "output_type": "stream",
     "text": [
      "(30, 45, 3)\n"
     ]
    }
   ],
   "source": [
    "img_name = \"test.jpg\"\n",
    "image =  Image.open(img_name)\n",
    "### test.jpg is any image file to test. rename your image to test\n",
    "#downsample image or place compression function\n",
    "cmp_img = downsample(image, 30)\n",
    "#cmp_img = ###FUNCTION###\n",
    "\n",
    "#add downsampled image to a byte buffer\n",
    "byte_img = io.BytesIO()\n",
    "cmp_img.save(byte_img, format='PNG', optimize=True) #converts to lossless PNG with compression\n",
    "byte_img.seek(0)\n",
    "byte_img = io.BufferedReader(byte_img)"
   ]
  },
  {
   "cell_type": "code",
   "execution_count": 9,
   "metadata": {},
   "outputs": [
    {
     "name": "stdout",
     "output_type": "stream",
     "text": [
      "Sending packets\n",
      "Done\n",
      "35.21815800666809\n"
     ]
    }
   ],
   "source": [
    "### APRS packet send image\n",
    "callsign = \"KM6BKP\"\n",
    "\n",
    "fs = 48000\n",
    "modem = TNC.TNCaprs(fs = fs ,Abuffer = 512,Nchunks = 1)\n",
    "\n",
    "\n",
    "\n",
    "Qout = Queue.Queue()\n",
    "\n",
    "starttime = time.time()\n",
    "\n",
    "def send_packets():\n",
    "    print(\"Sending packets\")\n",
    "    GPIO.output(PTT, GPIO.HIGH)\n",
    "    npp = 0\n",
    "    tmp = modem.modulatPacket(callsign, b\"\", 'BEGIN', img_name.encode() , preflags=80, postflags=10 )\n",
    "    GPIO.output(PTT, GPIO.LOW)\n",
    "    while(1):\n",
    "        GPIO.output(PTT, GPIO.HIGH)\n",
    "        bytes = byte_img.read(256)\n",
    "        tmp = modem.modulatPacket(callsign, b\"\", str(npp), bytes, preflags=20, postflags=10 )    \n",
    "        sd.play(0.15*tmp,samplerate=fs,blocking=True)\n",
    "        GPIO.output(PTT, GPIO.LOW)\n",
    "\n",
    "        npp = npp+1\n",
    "        if len(bytes) < 256:\n",
    "            break\n",
    "            \n",
    "    GPIO.output(PTT, GPIO.HIGH)\n",
    "    tmp = modem.modulatPacket(callsign, b\"\", \"END\", b\"This is the end of transmission\", preflags=2, postflags=80 )\n",
    "    GPIO.output(PTT, GPIO.LOW)\n",
    "\n",
    "\n",
    "    print(\"Done\")\n",
    "send_packets()\n",
    "print(time.time() - starttime)\n",
    "byte_img.close()"
   ]
  }
 ],
 "metadata": {
  "kernelspec": {
   "display_name": "Python 3",
   "language": "python",
   "name": "python3"
  },
  "language_info": {
   "codemirror_mode": {
    "name": "ipython",
    "version": 3
   },
   "file_extension": ".py",
   "mimetype": "text/x-python",
   "name": "python",
   "nbconvert_exporter": "python",
   "pygments_lexer": "ipython3",
   "version": "3.6.4"
  }
 },
 "nbformat": 4,
 "nbformat_minor": 2
}
