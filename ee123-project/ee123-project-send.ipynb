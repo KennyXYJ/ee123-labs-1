{
 "cells": [
  {
   "cell_type": "code",
   "execution_count": 3,
   "metadata": {},
   "outputs": [],
   "source": [
    "\n",
    "# Import functions and libraries\n",
    "import numpy as np\n",
    "import matplotlib.pyplot as plt\n",
    "import queue as Queue\n",
    "import time\n",
    "import sys\n",
    "#\n",
    "import io\n",
    "import TNCmodem as TNC\n",
    "import compression\n",
    "import zipfile\n",
    "import imageio\n",
    "#\n",
    "from numpy import pi\n",
    "from numpy import sin\n",
    "from numpy import zeros\n",
    "from numpy import r_\n",
    "from numpy import ones\n",
    "from scipy import signal\n",
    "from scipy import integrate\n",
    "import threading\n",
    "\n",
    "from numpy import mean\n",
    "from numpy import power\n",
    "from numpy.fft import fft\n",
    "from numpy.fft import fftshift\n",
    "from numpy.fft import ifft\n",
    "from numpy.fft import ifftshift\n",
    "import bitarray\n",
    "from  scipy.io.wavfile import read as wavread\n",
    "import newax25 as ax25\n",
    "\n",
    "import multiprocessing\n",
    "\n",
    "from math import gcd\n",
    "import sounddevice as sd\n",
    "import RPi.GPIO as GPIO\n",
    "from functools import reduce\n",
    "from numpy import ones,zeros, pi, cos, exp, sign"
   ]
  },
  {
   "cell_type": "code",
   "execution_count": 4,
   "metadata": {},
   "outputs": [],
   "source": [
    "from PIL import Image"
   ]
  },
  {
   "cell_type": "code",
   "execution_count": 5,
   "metadata": {},
   "outputs": [],
   "source": [
    "# function to compute least common multipler\n",
    "def lcm(numbers):\n",
    "    return reduce(lambda x, y: (x*y)//gcd(x,y), numbers, 1)"
   ]
  },
  {
   "cell_type": "code",
   "execution_count": 6,
   "metadata": {},
   "outputs": [
    {
     "data": {
      "text/plain": [
       "  0 bcm2835 ALSA: - (hw:0,0), ALSA (0 in, 2 out)\n",
       "  1 bcm2835 ALSA: IEC958/HDMI (hw:0,1), ALSA (0 in, 2 out)\n",
       "  2 USB Audio Device: - (hw:1,0), ALSA (1 in, 2 out)\n",
       "  3 sysdefault, ALSA (0 in, 128 out)\n",
       "  4 dmix, ALSA (0 in, 2 out)\n",
       "* 5 default, ALSA (1 in, 2 out)"
      ]
     },
     "execution_count": 6,
     "metadata": {},
     "output_type": "execute_result"
    }
   ],
   "source": [
    "sd.query_devices()"
   ]
  },
  {
   "cell_type": "code",
   "execution_count": 7,
   "metadata": {},
   "outputs": [],
   "source": [
    "builtin_idx = 0\n",
    "usb_idx = 2\n",
    "sd.default.samplerate=48000\n",
    "sd.default.channels = 1"
   ]
  },
  {
   "cell_type": "code",
   "execution_count": 8,
   "metadata": {},
   "outputs": [],
   "source": [
    "#initialize GPIO pins\n",
    "GPIO.setmode(GPIO.BOARD)\n",
    "\n",
    "PTT = 12\n",
    "GPIO.setup(PTT, GPIO.OUT, initial=0)\n"
   ]
  },
  {
   "cell_type": "code",
   "execution_count": 9,
   "metadata": {},
   "outputs": [],
   "source": [
    "# def downsample(img, factor):\n",
    "#     \"\"\"Takes in an Image object and int factor. It then downsamples and returns the downsampled image\"\"\"\n",
    "#     np_img = np.array(img)\n",
    "#     down = np_img[::factor,::factor,:]\n",
    "#     down_img = Image.fromarray(down)\n",
    "#     print(down.shape)\n",
    "#     return down_img"
   ]
  },
  {
   "cell_type": "code",
   "execution_count": 11,
   "metadata": {},
   "outputs": [
    {
     "name": "stderr",
     "output_type": "stream",
     "text": [
      "/usr/local/lib/python3.5/dist-packages/imageio/plugins/_tifffile.py:7285: UserWarning: module 'imageio.plugins._tifffile' has no attribute 'decode_packbits'\n",
      "  Functionality might be degraded or be slow.\n",
      "\n",
      "  warnings.warn(\"%s%s\" % (e, warn))\n",
      "/usr/local/lib/python3.5/dist-packages/imageio/plugins/_tifffile.py:7285: UserWarning: module 'imageio.plugins._tifffile' has no attribute 'decode_lzw'\n",
      "  Functionality might be degraded or be slow.\n",
      "\n",
      "  warnings.warn(\"%s%s\" % (e, warn))\n",
      "/usr/local/lib/python3.5/dist-packages/imageio/plugins/_tifffile.py:7285: UserWarning: module 'imageio.plugins._tifffile' has no attribute 'unpack_ints'\n",
      "  Functionality might be degraded or be slow.\n",
      "\n",
      "  warnings.warn(\"%s%s\" % (e, warn))\n",
      "/usr/local/lib/python3.5/dist-packages/imageio/plugins/_tifffile.py:7285: UserWarning: module 'imageio.plugins._tifffile' has no attribute 'reverse_bitorder'\n",
      "  Functionality might be degraded or be slow.\n",
      "\n",
      "  warnings.warn(\"%s%s\" % (e, warn))\n"
     ]
    }
   ],
   "source": [
    "img_name = \"createrLake.tiff\"\n",
    "image =  imageio.imread(img_name)\n",
    "#cmp_img = ###FUNCTION###\n",
    "y,cr,cb = compression.compress(image,25)\n",
    "with zipfile.ZipFile(\"img.zip\", 'w') as myzip:\n",
    "    myzip.write(\"imagey.txt\")\n",
    "    myzip.write(\"imagecr.txt\")\n",
    "    myzip.write(\"imagecb.txt\")\n",
    "#add downsampled image to a byte buffer\n",
    "# byte_img = io.BytesIO()\n",
    "# cmp_img.save(byte_img, format='PNG', optimize=True) #converts to lossless PNG with compression\n",
    "# byte_img.seek(0)\n",
    "# byte_img = io.BufferedReader(byte_img)"
   ]
  },
  {
   "cell_type": "code",
   "execution_count": null,
   "metadata": {},
   "outputs": [
    {
     "name": "stdout",
     "output_type": "stream",
     "text": [
      "Sending packets\n"
     ]
    }
   ],
   "source": [
    "### APRS packet send image\n",
    "callsign = \"KM6BKP\"\n",
    "f = open(\"img.zip\",\"rb\")\n",
    "\n",
    "fs = 48000\n",
    "modem = TNC.TNCaprs(fs = fs ,Abuffer = 512,Nchunks = 1)\n",
    "gain = 0.15\n",
    "\n",
    "\n",
    "Qout = Queue.Queue()\n",
    "\n",
    "starttime = time.time()\n",
    "\n",
    "def send_packets():\n",
    "    print(\"Sending packets\")\n",
    "    GPIO.output(PTT, GPIO.HIGH)\n",
    "    npp = 0\n",
    "    tmp = modem.modulatPacket(callsign, b\"\", 'BEGIN', b\"img.zip\" , preflags=80, postflags=10 )\n",
    "    sd.play(gain*tmp,samplerate=fs,blocking=True)\n",
    "    GPIO.output(PTT, GPIO.LOW)\n",
    "    while(1):\n",
    "        GPIO.output(PTT, GPIO.HIGH)\n",
    "        bytes = f.read(256)\n",
    "        tmp = modem.modulatPacket(callsign, b\"\", str(npp), bytes, preflags=20, postflags=10 )    \n",
    "        sd.play(gain*tmp,samplerate=fs,blocking=True)\n",
    "        GPIO.output(PTT, GPIO.LOW)\n",
    "\n",
    "        npp = npp+1\n",
    "        if len(bytes) < 256:\n",
    "            break\n",
    "            \n",
    "    GPIO.output(PTT, GPIO.HIGH)\n",
    "    tmp = modem.modulatPacket(callsign, b\"\", \"END\", b\"This is the end of transmission\", preflags=2, postflags=80 )\n",
    "    sd.play(gain*tmp,samplerate=fs,blocking=True)\n",
    "    GPIO.output(PTT, GPIO.LOW)\n",
    "\n",
    "\n",
    "    print(\"Done\")\n",
    "send_packets()\n",
    "print(time.time() - starttime)\n",
    "byte_img.close()"
   ]
  },
  {
   "cell_type": "code",
   "execution_count": null,
   "metadata": {},
   "outputs": [],
   "source": []
  }
 ],
 "metadata": {
  "kernelspec": {
   "display_name": "Python 3",
   "language": "python",
   "name": "python3"
  },
  "language_info": {
   "codemirror_mode": {
    "name": "ipython",
    "version": 3
   },
   "file_extension": ".py",
   "mimetype": "text/x-python",
   "name": "python",
   "nbconvert_exporter": "python",
   "pygments_lexer": "ipython3",
   "version": "3.5.3"
  }
 },
 "nbformat": 4,
 "nbformat_minor": 2
}
