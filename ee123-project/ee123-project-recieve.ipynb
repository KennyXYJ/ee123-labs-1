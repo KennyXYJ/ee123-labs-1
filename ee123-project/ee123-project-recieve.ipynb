{
 "cells": [
  {
   "cell_type": "code",
   "execution_count": 2,
   "metadata": {},
   "outputs": [],
   "source": [
    "\n",
    "# Import functions and libraries\n",
    "import numpy as np\n",
    "import matplotlib.pyplot as plt\n",
    "import queue as Queue\n",
    "import time\n",
    "import sys\n",
    "import scipy\n",
    "#\n",
    "import io\n",
    "import TNCmodem as TNC\n",
    "from PIL import Image\n",
    "import compression\n",
    "import zipfile\n",
    "import imageio\n",
    "#\n",
    "from numpy import pi\n",
    "from numpy import sin\n",
    "from numpy import zeros\n",
    "from numpy import r_\n",
    "from numpy import ones\n",
    "from scipy import signal\n",
    "from scipy import integrate\n",
    "import threading\n",
    "\n",
    "from numpy import mean\n",
    "from numpy import power\n",
    "from numpy.fft import fft\n",
    "from numpy.fft import fftshift\n",
    "from numpy.fft import ifft\n",
    "from numpy.fft import ifftshift\n",
    "import bitarray\n",
    "from  scipy.io.wavfile import read as wavread\n",
    "import newax25 as ax25\n",
    "\n",
    "import multiprocessing\n",
    "\n",
    "from math import gcd\n",
    "import sounddevice as sd\n",
    "import RPi.GPIO as GPIO\n",
    "from functools import reduce\n",
    "from numpy import ones,zeros, pi, cos, exp, sign"
   ]
  },
  {
   "cell_type": "code",
   "execution_count": 65,
   "metadata": {},
   "outputs": [
    {
     "data": {
      "text/plain": [
       "  0 bcm2835 ALSA: - (hw:0,0), ALSA (0 in, 2 out)\n",
       "  1 bcm2835 ALSA: IEC958/HDMI (hw:0,1), ALSA (0 in, 2 out)\n",
       "  2 USB Audio Device: - (hw:1,0), ALSA (1 in, 2 out)\n",
       "  3 sysdefault, ALSA (0 in, 128 out)\n",
       "  4 dmix, ALSA (0 in, 2 out)\n",
       "* 5 default, ALSA (1 in, 2 out)"
      ]
     },
     "execution_count": 65,
     "metadata": {},
     "output_type": "execute_result"
    }
   ],
   "source": [
    "sd.query_devices()"
   ]
  },
  {
   "cell_type": "code",
   "execution_count": 66,
   "metadata": {},
   "outputs": [],
   "source": [
    "builtin_idx = 0\n",
    "usb_idx = 2\n",
    "sd.default.samplerate=48000\n",
    "sd.default.channels = 1"
   ]
  },
  {
   "cell_type": "code",
   "execution_count": 67,
   "metadata": {},
   "outputs": [],
   "source": [
    "#create a queue to store packets\n",
    "Qin = Queue.Queue()\n",
    "\n",
    "def queueREC_callback(indata, outdata, frames, time, status):\n",
    "    if status:\n",
    "        print(status)\n",
    "    outdata[:] = indata\n",
    "    Qin.put_nowait( indata.copy()[:,0] )  # Global queue"
   ]
  },
  {
   "cell_type": "code",
   "execution_count": 68,
   "metadata": {},
   "outputs": [],
   "source": [
    "sd.default.samplerate=48000\n",
    "sd.default.channels = 1\n",
    "\n",
    "st_rec = sd.Stream( device=(usb_idx, builtin_idx), callback=queueREC_callback)"
   ]
  },
  {
   "cell_type": "code",
   "execution_count": 69,
   "metadata": {},
   "outputs": [
    {
     "name": "stdout",
     "output_type": "stream",
     "text": [
      "decoding packets\n",
      " 1) | DEST: BEGIN 0 | SRC: KM6QHB | DIGI:       0 | b'img.zip' |\n",
      " 2) | DEST: 0     0 | SRC: KM6QHB | DIGI:       0 | b'PK\\x03\\x04\\x14\\x00\\x00\\x00\\x00\\x00\\t\\x93\\xa4L=\\xfaoV>\\x0f\\x00\\x00>\\x0f\\x00\\x00\\n\\x00\\x00\\x00imagey.txt72 112 15 0 -6 0 -2 0 2 0 4 0 -1 0 1 1 19 0 -6 1 2 0 23 4 -3 0 -2 0 -2 1 -1 0 -1 1 15 0 -6 0 -2 0 2 0 4 0 -1 0 1 1 19 0 -6 1 2 0 23 4 -3 0 -2 0 -2 1 -1 0 -1 1 19 0 4 0 6 0 -1 1 -1 2 21 0 -7 0 1 0 1 1 -4 0 20 2 5 0 3' |\n",
      "write\n",
      " 3) | DEST: 1     0 | SRC: KM6QHB | DIGI:       0 | b'0 1 0 2 1 -1 0 -3 0 19 0 1 0 -4 0 3 0 -1 0 -1 0 1 1 22 0 -4 0 3 0 2 1 -4 0 2 1 18 0 -2 0 3 1 5 0 1 2 19 0 -2 0 2 0 2 0 -2 0 4 0 -3 1 19 0 11 0 -9 3 2 0 4 2 2 0 5 6 2 0 1 6 1 1 4 5 2 0 5 6 2 0 1 6 1 1 -2 4 1 2 1 0 1 3 -2 7 1 3 1 0 -1 2 4 0 1 0 1 1 2 12 -2 1' |\n",
      "write\n",
      " 4) | DEST: 2     0 | SRC: KM6QHB | DIGI:       0 | b'-1 0 2 3 1 0 1 1 14 684 -7 0 3 0 1 0 -2 0 -2 0 1 0 19 1 6 1 2 0 24 4 -2 0 1 0 1 1 -1 0 1 1 14 0 -7 0 3 0 1 0 -2 0 -2 0 1 0 19 1 6 1 2 0 24 4 -2 0 1 0 1 1 -1 0 1 1 21 0 1 0 -2 0 -1 0 -2 0 -4 0 2 0 20 1 -8 0 -5 3 -1 0 24 1 -1 1 21 5 6 0 4 0 -2 1 -1 0 -1 1 2' |\n",
      "write\n",
      " 5) | DEST: 3     0 | SRC: KM6QHB | DIGI:       0 | b'1 0 -6 0 -2 0 -3 1 -3 0 23 2 3 0 1 0 2 0 -1 0 -1 0 17 2 -4 0 6 3 19 2 11 0 -9 3 2 0 -3 2 1 0 1 0 -5 5 2 0 -1 6 -1 1 -3 5 1 0 1 0 -5 5 2 0 -1 6 -1 1 -1 4 -1 0 -1 4 1 21 1 0 -2 10 -1 0 1 1 1 0 4 3 2 3 -1 108 18 574 -11 0 -3 3 1 0 25 1 25 7 18 7 -11 0 -3 3 1' |\n",
      "write\n",
      " 6) | DEST: 4     0 | SRC: KM6QHB | DIGI:       0 | b'0 25 1 25 7 23 7 4 0 -4 3 2 0 20 1 -8 0 -5 3 -1 0 21 1 5 0 4 0 -3 1 -1 2 20 0 -4 0 -5 0 -1 1 2 2 24 0 1 0 -1 3 22 2 -5 0 3 0 3 1 -2 0 18 2 5 0 1 2 6 0 -3 0 -1 0 19 0 11 0 -9 3 2 0 1 7 1 23 -1 23 -1 9 2 3 1 0 2 2 1 2 2 0 1 15 -1 3 1 3 19 683 -9 1 -2 0 19 4' |\n",
      "write\n",
      " 7) | DEST: 5     0 | SRC: KM6QHB | DIGI:       0 | b'-8 1 -2 0 23 4 -3 0 -3 0 -3 1 -1 0 -1 1 19 0 -9 1 -2 0 19 4 -8 1 -2 0 23 4 -3 0 -3 0 -3 1 -1 0 -1 1 24 0 1 0 -1 0 1 1 -1 0 -1 1 23 0 -3 0 -2 0 -3 1 -2 0 -1 1 21 0 2 0 -6 0 -1 0 2 0 2 0 1 1 20 0 -7 1 -1 0 23 4 -3 0 -2 0 -3 1 -1 0 -1 1 21 0 2 0 -6 0 -2 0 1 0' |\n",
      "write\n",
      " 8) | DEST: 6     0 | SRC: KM6QHB | DIGI:       0 | b'1 0 1 1 22 0 -3 0 -4 0 -2 0 -3 0 19 3 11 0 -9 3 2 0 1 2 2 0 2 6 2 0 1 7 1 6 2 0 2 6 2 0 1 7 -1 13 1 8 1 0 2 6 2 0 -1 16 -1 4 -1 106 25 580 25 7 25 7 25 7 25 7 25 7 25 7 25 7 25 7 25 7 25 7 25 7 25 7 19 7 11 0 -9 3 2 0 19 785 10 1 -6 0 19 4 10 1 -6 0 24 4' |\n",
      "write\n",
      " 9) | DEST: 7     0 | SRC: KM6QHB | DIGI:       0 | b'-1 0 1 0 -1 0 1 0 -1 0 1 1 25 0 25 7 25 7 25 7 24 7 1 0 1 0 -1 1 -1 0 1 1 23 0 -3 0 3 0 -1 0 3 0 -2 0 1 1 25 0 25 7 25 7 22 7 2 0 4 0 -2 0 -3 0 1 0 -1 0 -1 0 19 0 11 0 -9 3 2 0 3 2 3 7 -1 6 1 39 -1 4 -2 2 -1 3 2 27 1 0 1 3 -1 14 -1 92 14 574 -14 0 -2 0 -1' |\n",
      "write\n",
      " 10) | DEST: 8     0 | SRC: KM6QHB | DIGI:       0 | b'0 1 0 -4 0 2 0 22 1 1 0 -4 0 -3 0 1 0 -1 0 15 2 -13 0 -1 2 2 0 4 0 -2 0 20 0 4 0 7 0 -3 0 -5 0 -1 2 19 0 -3 0 9 0 -4 0 3 0 2 0 -1 1 24 0 1 0 1 0 -1 0 -2 0 -1 0 1 1 17 0 12 1 -4 0 20 4 3 0 2 0 -1 0 3 0 -8 0 3 0 1 0 18 0 -12 0 -9 3 -1 0 20 1 -4 0 6 0 -1 0 5' |\n",
      "write\n",
      " 11) | DEST: 9     0 | SRC: KM6QHB | DIGI:       0 | b'0 1 0 1 0 20 1 4 0 8 0 -3 0 -4 0 1 0 -1 1 19 0 -4 0 8 0 -3 0 4 0 1 0 -1 1 15 0 11 0 4 3 -6 0 19 1 11 0 -9 3 2 0 1 1 -1 0 -1 0 1 3 1 1 -3 0 -1 0 -2 9 -1 0 1 0 1 1 1 3 1 5 -1 0 1 0 1 3 -1 3 2 5 -2 5 1 0 1 1 -1 0 -2 1 1 0 -2 8 -1 0 1 0 -1 2 1 2 1 2 1 0 -1 6 1' |\n",
      "write\n",
      " 12) | DEST: 10    0 | SRC: KM6QHB | DIGI:       0 | b'0 1 9 -1 35 -1 0 1 7 1 14 -1 1 1 21 -1 7 -1 0 1 7 10 580 -10 0 -2 0 5 0 1 0 -3 0 1 0 11 1 5 0 1 0 7 0 -3 0 1 0 -1 0 -1 0 21 0 -6 0 -4 0 -2 0 -4 0 -3 0 -1 1 14 0 -12 0 -1 0 3 1 1 0 3 0 4 0 17 0 13 0 -2 0 -1 0 1 0 -6 0 2 1 12 0 8 0 2 0 1 0 3 0 -5 0 -6 0 -1' |\n",
      "write\n",
      " 13) | DEST: 11    0 | SRC: KM6QHB | DIGI:       0 | b'0 24 0 -1 0 -2 0 -1 0 -1 0 -2 0 -2 1 18 0 -5 1 -1 0 -5 0 -7 0 5 0 6 1 -1 0 4 0 1 0 -6 1 -1 0 -3 0 23 0 -3 0 -1 0 -2 0 -2 0 -3 0 -1 0 13 1 1 0 3 1 -7 0 7 0 2 0 3 0 15 0 -1 0 5 0 -7 0 6 0 4 0 -2 0 1 0 15 0 11 0 4 3 -6 0 19 1 11 0 -9 3 2 0 -4 1 3 0 -1 0 -2 0' |\n",
      "write\n",
      " 14) | DEST: 12    0 | SRC: KM6QHB | DIGI:       0 | b'-1 0 1 1 5 1 4 0 -2 2 1 0 -2 2 1 7 1 3 1 1 1 5 -1 0 3 7 -1 3 -1 2 -2 3 1 1 1 2 -1 0 1 0 1 2 -1 0 -4 0 1 1 -3 1 -1 3 -3 4 2 1 -1 0 2 0 1 2 -1 2 2 0 -1 0 1 8 1 19 -1 0 -1 0 1 5 1 22 1 23 1 0 -1 22 15 582 -15 0 -4 3 2 0 22 1 4 0 -3 0 -1 0 4 0 -3 0 1 0 -2 0 14' |\n",
      "write\n",
      " 15) | DEST: 13    0 | SRC: KM6QHB | DIGI:       0 | b'0 -11 0 3 0 1 0 -2 0 2 0 1 0 -7 0 13 0 -1 0 1 1 -10 0 4 0 2 0 13 1 4 0 4 0 1 0 9 0 -4 2 17 0 8 0 -6 0 1 0 1 0 -5 0 -2 0 16 1 12 1 -1 0 -1 1 15 2 -2 0 -1 0 4 0 -8 1 5 0 2 0 16 0 -9 0 -2 0 -1 0 3 0 -11 0 -2 1 15 0 -9 0 3 0 1 0 -3 0 3 0 1 0 -7 0 15 0 1 0 5 0' |\n",
      "write\n",
      " 16) | DEST: 14    0 | SRC: KM6QHB | DIGI:       0 | b'3 0 -6 0 5 0 2 0 12 1 4 0 1 0 9 1 2 0 -2 0 -1 0 19 0 7 0 3 0 -1 0 -3 0 3 0 -4 0 19 1 11 0 -9 3 2 0 1 7 1 1 3 7 1 3 -1 0 1 2 -2 0 1 0 1 0 -4 0 1 0 -5 2 -2 0 1 0 -1 1 -3 3 1 3 -3 0 1 2 -3 0 2 0 2 1 4 3 1 1 1 2 -1 0 1 0 1 0 1 4 3 2 -1 4 4 2 1 1 1 0 -3 0 1 0' |\n",
      "write\n",
      " 17) | DEST: 15    0 | SRC: KM6QHB | DIGI:       0 | b'-4 2 -2 0 1 0 1 5 -3 0 -1 0 2 0 1 1 -1 27 -1 9 1 5 1 0 -1 6 -1 8 -1 7 -1 14 -1 7 1 0 2 7 -1 77 -1 39 ;PK\\x03\\x04\\x14\\x00\\x00\\x00\\x00\\x00\\t\\x93\\xa4L\\xf9\\xb1-oD\\x03\\x00\\x00D\\x03\\x00\\x00\\x0b\\x00\\x00\\x00imagecr.txt72 112 17 0 2 0 -1 2 15 3 2 1 12 5 1 0 17 6 2 0 -1 2 15 3 2 1 12 5 1 0 12 6 12 7 12 7 12 7 12 7 13 7 12 7 9 7 3 0' |\n",
      "write\n",
      " 18) | DEST: 16    0 | SRC: KM6QHB | DIGI:       0 | b'-1 3 17 786 2 0 -1 0 15 5 -2 1 12 5 17 7 2 0 -1 0 15 5 -2 1 12 5 12 7 12 7 12 7 12 7 12 7 12 7 13 7 9 7 3 0 -1 3 15 786 3 0 12 6 12 7 15 7 3 0 12 6 12 7 12 7 12 7 12 7 12 7 12 7 12 7 13 7 9 7 3 0 -1 3 15 786 3 1 15 5 3 1 13 5 1 0 1 0 1 1 15 3 3 1 15 5 3 1' |\n",
      "write\n",
      " 19) | DEST: 17    0 | SRC: KM6QHB | DIGI:       0 | b'13 5 1 0 1 0 1 1 12 3 12 7 12 7 12 7 12 7 12 7 12 7 9 7 3 0 -1 3 12 786 12 7 12 7 12 7 12 7 12 7 12 7 12 7 12 7 12 7 12 7 12 7 12 7 9 7 3 0 -1 3 12 786 12 7 12 7 12 7 12 7 12 7 12 7 12 7 12 7 12 7 12 7 12 7 12 7 9 7 3 0 -1 3 12 786 12 7 12 7 12 7 12 7 12' |\n",
      "write\n",
      " 20) | DEST: 18    0 | SRC: KM6QHB | DIGI:       0 | b'7 12 7 12 7 12 7 12 7 12 7 12 7 12 7 9 7 3 0 -1 3 12 786 12 7 12 7 12 7 12 7 12 7 12 7 12 7 12 7 12 7 12 7 12 7 12 7 9 7 3 0 -1 3 12 786 12 7 12 7 12 7 12 7 12 7 12 7 12 7 12 7 12 7 12 7 12 7 12 7 9 7 3 0 -1 3 ;PK\\x03\\x04\\x14\\x00\\x00\\x00\\x00\\x00\\t\\x93\\xa4L@\\x90\\x84\\r\\xb4\\x03\\x00\\x00\\xb4\\x03\\x00\\x00\\x0b\\x00\\x00\\x00imagecb.txt72 1' |\n",
      "write\n",
      " 21) | DEST: 19    0 | SRC: KM6QHB | DIGI:       0 | b'12 12 0 12 7 12 7 12 7 12 7 12 7 14 7 -1 0 -2 0 14 5 2 0 1 3 14 2 -1 0 -1 0 1 4 15 0 1 1 -1 0 13 4 1 0 -1 0 15 5 -1 2 -1 0 15 3 -1 4 1 1 9 0 3 0 -1 3 12 786 12 7 12 7 12 7 12 7 12 7 14 7 1 1 14 5 2 0 1 3 12 2 14 7 -2 0 -1 0 13 5 2 0 1 0 13 5 -1 0 16 6 1 0' |\n",
      "write\n",
      " 22) | DEST: 20    0 | SRC: KM6QHB | DIGI:       0 | b'-1 3 9 2 3 0 -1 3 -1 98 12 687 12 7 12 7 12 7 12 7 12 7 13 7 -1 0 1 3 14 2 2 0 1 3 14 2 -1 0 -1 0 14 5 1 0 1 0 12 5 13 7 1 0 -1 0 -1 1 15 3 -1 0 -1 3 9 2 3 0 -1 3 12 786 12 7 12 7 12 7 12 7 12 7 12 7 12 7 1 0 1 2 14 3 2 1 14 5 2 1 13 5 1 0 1 0 1 1 14 3 2 1' |\n",
      "write\n",
      " 23) | DEST: 21    0 | SRC: KM6QHB | DIGI:       0 | b'13 5 1 0 1 0 1 1 9 3 3 0 -1 3 12 786 12 7 12 7 12 7 12 7 12 7 12 7 12 7 12 7 12 7 12 7 12 7 12 7 9 7 3 0 -1 3 12 786 12 7 12 7 12 7 12 7 12 7 12 7 12 7 12 7 12 7 12 7 12 7 12 7 9 7 3 0 -1 3 12 786 12 7 12 7 12 7 12 7 12 7 12 7 12 7 12 7 12 7 12 7 12 7 12' |\n",
      "write\n",
      " 24) | DEST: 22    0 | SRC: KM6QHB | DIGI:       0 | b'7 9 7 3 0 -1 3 12 786 12 7 12 7 12 7 12 7 12 7 12 7 12 7 12 7 12 7 12 7 12 7 12 7 9 7 3 0 -1 3 12 786 12 7 12 7 12 7 12 7 12 7 12 7 12 7 12 7 12 7 12 7 12 7 12 7 9 7 3 0 -1 3 ;PK\\x01\\x02\\x14\\x03\\x14\\x00\\x00\\x00\\x00\\x00\\t\\x93\\xa4L=\\xfaoV>\\x0f\\x00\\x00>\\x0f\\x00\\x00\\n\\x00\\x00\\x00\\x00\\x00\\x00\\x00\\x00\\x00\\x00\\x00\\xa4\\x81\\x00\\x00\\x00\\x00imagey.txtPK\\x01\\x02\\x14\\x03\\x14\\x00\\x00\\x00\\x00\\x00\\t\\x93\\xa4L\\xf9\\xb1-oD\\x03\\x00\\x00' |\n",
      "write\n",
      " 25) | DEST: 23    0 | SRC: KM6QHB | DIGI:       0 | b'D\\x03\\x00\\x00\\x0b\\x00\\x00\\x00\\x00\\x00\\x00\\x00\\x00\\x00\\x00\\x00\\xa4\\x81f\\x0f\\x00\\x00imagecr.txtPK\\x01\\x02\\x14\\x03\\x14\\x00\\x00\\x00\\x00\\x00\\t\\x93\\xa4L@\\x90\\x84\\r\\xb4\\x03\\x00\\x00\\xb4\\x03\\x00\\x00\\x0b\\x00\\x00\\x00\\x00\\x00\\x00\\x00\\x00\\x00\\x00\\x00\\xa4\\x81\\xd3\\x12\\x00\\x00imagecb.txtPK\\x05\\x06\\x00\\x00\\x00\\x00\\x03\\x00\\x03\\x00\\xaa\\x00\\x00\\x00\\xb0\\x16\\x00\\x00\\x00\\x00' |\n",
      "write\n"
     ]
    },
    {
     "name": "stdout",
     "output_type": "stream",
     "text": [
      " 26) | DEST: END   0 | SRC: KM6QHB | DIGI:       0 | b'This is the end of transmission' |\n",
      "62.81010866165161\n"
     ]
    }
   ],
   "source": [
    "fs = 48000\n",
    "modem = TNC.TNCaprs(fs = fs ,Abuffer = 512,Nchunks = 1)\n",
    "\n",
    "#start recording\n",
    "st_rec.start()\n",
    "#fname = \"\"\n",
    "\n",
    "def decode_packets():\n",
    "    print(\"decoding packets\")\n",
    "    starttime = time.time()\n",
    "    npack = 0\n",
    "    state = 0\n",
    "    while(1):\n",
    "        tmp = Qin.get() \n",
    "\n",
    "        packets  = modem.processBuffer(tmp)\n",
    "        for pkt in packets: \n",
    "            ax = modem.decodeAX25(pkt)\n",
    "            npack = npack + 1\n",
    "\n",
    "\n",
    "\n",
    "            infostr = \"%(n) 2i) | DEST: %(dest)s | SRC: %(src)s | DIGI: %(digi)s | %(info)s |\" % {\n",
    "                            'n': npack,\n",
    "                            'dest': ax.destination,\n",
    "                            'src': ax.source,\n",
    "                            'digi': ax.digipeaters,\n",
    "                            'info': ax.info.strip()\n",
    "                        }\n",
    "            print(infostr)\n",
    "\n",
    "            if state == 0 and ax.destination[:5]==\"BEGIN\":\n",
    "                f1 = open(\"rec_\"+ax.info.decode(),\"wb\")\n",
    "                #fname = \"rec_\"+ax.info.decode()\n",
    "                #f1 = io.BufferedWriter(Bytes.IO())\n",
    "                state = 1\n",
    "            elif state == 1 and ax.destination[:3] == \"END\": \n",
    "                state = 2  \n",
    "                break\n",
    "            elif state == 1:\n",
    "                f1.write(ax.info)\n",
    "                print(\"write\")\n",
    "        if state == 2 :\n",
    "            break\n",
    "\n",
    "    print(time.time() - starttime)\n",
    "    \n",
    "    f1.close()\n",
    "\n",
    "decode_packets()\n",
    "st_rec.stop()\n",
    "st_rec.close()"
   ]
  },
  {
   "cell_type": "code",
   "execution_count": 70,
   "metadata": {},
   "outputs": [
    {
     "data": {
      "text/plain": [
       "<matplotlib.image.AxesImage at 0x6c8626f0>"
      ]
     },
     "execution_count": 70,
     "metadata": {},
     "output_type": "execute_result"
    },
    {
     "data": {
      "image/png": "[encoded data removed]",
      "text/plain": [
       "<matplotlib.figure.Figure at 0x6cf684f0>"
      ]
     },
     "metadata": {},
     "output_type": "display_data"
    }
   ],
   "source": [
    "# f1.seek(0)\n",
    "#recv_img = Image.open(f1)\n",
    "with zipfile.ZipFile(\"rec_img.zip\", 'r') as zip_recv:\n",
    "#zip_recv = zipfile.ZipFile(\"rec_img.zip\", 'r')\n",
    "    zip_recv.extractall()\n",
    "#inverse DCT function here\n",
    "#new_img = ###FUNCTION(recv_img)\n",
    "#y = open(\"imagey.txt\", 'r')\n",
    "with open(\"imagey.txt\", 'r') as y_file:\n",
    "    y = y_file.read()\n",
    "#cr = open(\"imagecr.txt\", 'r')\n",
    "with open(\"imagecr.txt\", 'r') as cr_file:\n",
    "    cr = cr_file.read()\n",
    "#cb = open(\"imagecb.txt\", 'r')\n",
    "with open(\"imagecb.txt\", 'r') as cb_file:\n",
    "    cb = cb_file.read()\n",
    "dec_image=compression.decompress(y,cr,cb)\n",
    "plt.imshow(dec_image)"
   ]
  },
  {
   "cell_type": "code",
   "execution_count": 74,
   "metadata": {},
   "outputs": [
    {
     "ename": "OSError",
     "evalue": "cannot identify image file 'EE_test.tiff'",
     "output_type": "error",
     "traceback": [
      "\u001b[0;31m---------------------------------------------------------------------------\u001b[0m",
      "\u001b[0;31mOSError\u001b[0m                                   Traceback (most recent call last)",
      "\u001b[0;32m<ipython-input-74-d0a04c6b02e8>\u001b[0m in \u001b[0;36m<module>\u001b[0;34m()\u001b[0m\n\u001b[1;32m      1\u001b[0m \u001b[0mimg\u001b[0m \u001b[0;34m=\u001b[0m \u001b[0mImage\u001b[0m\u001b[0;34m.\u001b[0m\u001b[0mfromarray\u001b[0m\u001b[0;34m(\u001b[0m\u001b[0mdec_image\u001b[0m\u001b[0;34m)\u001b[0m\u001b[0;34m\u001b[0m\u001b[0m\n\u001b[1;32m      2\u001b[0m \u001b[0mimg\u001b[0m\u001b[0;34m.\u001b[0m\u001b[0msave\u001b[0m\u001b[0;34m(\u001b[0m\u001b[0;34m\"rec_EE_test.tiff\"\u001b[0m\u001b[0;34m)\u001b[0m\u001b[0;34m\u001b[0m\u001b[0m\n\u001b[0;32m----> 3\u001b[0;31m \u001b[0mrgbImage\u001b[0m \u001b[0;34m=\u001b[0m \u001b[0mscipy\u001b[0m\u001b[0;34m.\u001b[0m\u001b[0mmisc\u001b[0m\u001b[0;34m.\u001b[0m\u001b[0mimread\u001b[0m\u001b[0;34m(\u001b[0m\u001b[0;34m\"EE_test.tiff\"\u001b[0m\u001b[0;34m)\u001b[0m\u001b[0;34m\u001b[0m\u001b[0m\n\u001b[0m\u001b[1;32m      4\u001b[0m \u001b[0;31m#rgbImage = np.array(rgbImage)\u001b[0m\u001b[0;34m\u001b[0m\u001b[0;34m\u001b[0m\u001b[0m\n\u001b[1;32m      5\u001b[0m \u001b[0;31m#compression.EE123_psnr(rgbImage,dec_image)\u001b[0m\u001b[0;34m\u001b[0m\u001b[0;34m\u001b[0m\u001b[0m\n",
      "\u001b[0;32m/usr/lib/python3/dist-packages/scipy/misc/pilutil.py\u001b[0m in \u001b[0;36mimread\u001b[0;34m(name, flatten, mode)\u001b[0m\n\u001b[1;32m    152\u001b[0m     \"\"\"\n\u001b[1;32m    153\u001b[0m \u001b[0;34m\u001b[0m\u001b[0m\n\u001b[0;32m--> 154\u001b[0;31m     \u001b[0mim\u001b[0m \u001b[0;34m=\u001b[0m \u001b[0mImage\u001b[0m\u001b[0;34m.\u001b[0m\u001b[0mopen\u001b[0m\u001b[0;34m(\u001b[0m\u001b[0mname\u001b[0m\u001b[0;34m)\u001b[0m\u001b[0;34m\u001b[0m\u001b[0m\n\u001b[0m\u001b[1;32m    155\u001b[0m     \u001b[0;32mreturn\u001b[0m \u001b[0mfromimage\u001b[0m\u001b[0;34m(\u001b[0m\u001b[0mim\u001b[0m\u001b[0;34m,\u001b[0m \u001b[0mflatten\u001b[0m\u001b[0;34m=\u001b[0m\u001b[0mflatten\u001b[0m\u001b[0;34m,\u001b[0m \u001b[0mmode\u001b[0m\u001b[0;34m=\u001b[0m\u001b[0mmode\u001b[0m\u001b[0;34m)\u001b[0m\u001b[0;34m\u001b[0m\u001b[0m\n\u001b[1;32m    156\u001b[0m \u001b[0;34m\u001b[0m\u001b[0m\n",
      "\u001b[0;32m/usr/lib/python3/dist-packages/PIL/Image.py\u001b[0m in \u001b[0;36mopen\u001b[0;34m(fp, mode)\u001b[0m\n\u001b[1;32m   2347\u001b[0m \u001b[0;34m\u001b[0m\u001b[0m\n\u001b[1;32m   2348\u001b[0m     raise IOError(\"cannot identify image file %r\"\n\u001b[0;32m-> 2349\u001b[0;31m                   % (filename if filename else fp))\n\u001b[0m\u001b[1;32m   2350\u001b[0m \u001b[0;34m\u001b[0m\u001b[0m\n\u001b[1;32m   2351\u001b[0m \u001b[0;31m#\u001b[0m\u001b[0;34m\u001b[0m\u001b[0;34m\u001b[0m\u001b[0m\n",
      "\u001b[0;31mOSError\u001b[0m: cannot identify image file 'EE_test.tiff'"
     ]
    }
   ],
   "source": [
    "img = Image.fromarray(dec_image)\n",
    "img.save(\"rec_EE_test.tiff\")\n",
    "rgbImage = scipy.misc.imread(\"EE_test.tiff\")\n",
    "#rgbImage = np.array(rgbImage)\n",
    "compression.EE123_psnr(rgbImage,dec_image)"
   ]
  },
  {
   "cell_type": "code",
   "execution_count": 48,
   "metadata": {},
   "outputs": [
    {
     "name": "stdout",
     "output_type": "stream",
     "text": [
      "(346, 768, 3)\n",
      "(352, 768, 3)\n"
     ]
    }
   ],
   "source": [
    "print (np.shape(rgbImage))\n",
    "print (np.shape(dec_image))\n",
    "test=np.resize((dec_image),(346,768,3))"
   ]
  },
  {
   "cell_type": "code",
   "execution_count": 50,
   "metadata": {},
   "outputs": [
    {
     "data": {
      "text/plain": [
       "6.4395253280767841"
      ]
     },
     "execution_count": 50,
     "metadata": {},
     "output_type": "execute_result"
    }
   ],
   "source": [
    "compression.EE123_psnr(rgbImage,test)"
   ]
  },
  {
   "cell_type": "code",
   "execution_count": 3,
   "metadata": {},
   "outputs": [
    {
     "data": {
      "text/plain": [
       "<matplotlib.image.AxesImage at 0x6d488390>"
      ]
     },
     "execution_count": 3,
     "metadata": {},
     "output_type": "execute_result"
    },
    {
     "data": {
      "image/png": "[encoded data removed]",
      "text/plain": [
       "<matplotlib.figure.Figure at 0x70f8b4d0>"
      ]
     },
     "metadata": {},
     "output_type": "display_data"
    }
   ],
   "source": [
    "mid_img = Image.open(\"rec_mid_test.tiff\")\n",
    "plt.imshow(mid_img)"
   ]
  },
  {
   "cell_type": "code",
   "execution_count": 6,
   "metadata": {},
   "outputs": [
    {
     "name": "stdout",
     "output_type": "stream",
     "text": [
      "(352, 768, 3)\n",
      "(346, 768, 3)\n"
     ]
    }
   ],
   "source": [
    "print (np.shape(mid_img))\n",
    "print (np.shape(orig_img))\n",
    "mid_img = np.resize((mid_img),(346,768,3))"
   ]
  },
  {
   "cell_type": "code",
   "execution_count": 8,
   "metadata": {},
   "outputs": [
    {
     "data": {
      "text/plain": [
       "6.4395253280767841"
      ]
     },
     "execution_count": 8,
     "metadata": {},
     "output_type": "execute_result"
    }
   ],
   "source": [
    "orig_img = scipy.misc.imread(\"mid_test.tiff\")\n",
    "compression.EE123_psnr(mid_img, orig_img)"
   ]
  },
  {
   "cell_type": "code",
   "execution_count": null,
   "metadata": {},
   "outputs": [],
   "source": []
  }
 ],
 "metadata": {
  "kernelspec": {
   "display_name": "Python 3",
   "language": "python",
   "name": "python3"
  },
  "language_info": {
   "codemirror_mode": {
    "name": "ipython",
    "version": 3
   },
   "file_extension": ".py",
   "mimetype": "text/x-python",
   "name": "python",
   "nbconvert_exporter": "python",
   "pygments_lexer": "ipython3",
   "version": "3.5.3"
  }
 },
 "nbformat": 4,
 "nbformat_minor": 2
}
