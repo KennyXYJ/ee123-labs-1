{
 "cells": [
  {
   "cell_type": "code",
   "execution_count": null,
   "metadata": {},
   "outputs": [],
   "source": [
    "\n",
    "# Import functions and libraries\n",
    "import numpy as np\n",
    "import matplotlib.pyplot as plt\n",
    "import queue as Queue\n",
    "import time\n",
    "import sys\n",
    "#\n",
    "import io\n",
    "import TNCmodem as TNC\n",
    "from PIL import Image\n",
    "#\n",
    "from numpy import pi\n",
    "from numpy import sin\n",
    "from numpy import zeros\n",
    "from numpy import r_\n",
    "from numpy import ones\n",
    "from scipy import signal\n",
    "from scipy import integrate\n",
    "import threading\n",
    "\n",
    "from numpy import mean\n",
    "from numpy import power\n",
    "from numpy.fft import fft\n",
    "from numpy.fft import fftshift\n",
    "from numpy.fft import ifft\n",
    "from numpy.fft import ifftshift\n",
    "import bitarray\n",
    "from  scipy.io.wavfile import read as wavread\n",
    "import newax25 as ax25\n",
    "\n",
    "import multiprocessing\n",
    "\n",
    "from math import gcd\n",
    "import sounddevice as sd\n",
    "import RPi.GPIO as GPIO\n",
    "from functools import reduce\n",
    "from numpy import ones,zeros, pi, cos, exp, sign"
   ]
  },
  {
   "cell_type": "code",
   "execution_count": null,
   "metadata": {},
   "outputs": [],
   "source": [
    "sd.query_devices()"
   ]
  },
  {
   "cell_type": "code",
   "execution_count": null,
   "metadata": {},
   "outputs": [],
   "source": [
    "builtin_idx = 0\n",
    "usb_idx = 2\n",
    "sd.default.samplerate=48000\n",
    "sd.default.channels = 1"
   ]
  },
  {
   "cell_type": "code",
   "execution_count": null,
   "metadata": {},
   "outputs": [],
   "source": [
    "#create a queue to store packets\n",
    "Qin = Queue.Queue()\n",
    "cQin = Queue.Queue()\n",
    "\n",
    "def queueREC_callback(indata, outdata, frames, time, status):\n",
    "    if status:\n",
    "        print(status)\n",
    "    outdata[:] = indata\n",
    "    Qin.put_nowait( indata.copy()[:,0] )  # Global queue"
   ]
  },
  {
   "cell_type": "code",
   "execution_count": null,
   "metadata": {},
   "outputs": [],
   "source": [
    "sd.default.samplerate=48000\n",
    "sd.default.channels = 1\n",
    "\n",
    "st_rec = sd.Stream( device=(usb_idx, builtin_idx), callback=queueREC_callback)"
   ]
  },
  {
   "cell_type": "code",
   "execution_count": null,
   "metadata": {},
   "outputs": [],
   "source": [
    "fs = 48000\n",
    "\n",
    "# def record_audio(qin, queue):\n",
    "#     with st_rec:\n",
    "#         while True:\n",
    "#             if not queue.empty():\n",
    "#                 if queue.get() == \"EOT\":\n",
    "#                     st_rec.stop()\n",
    "#                     st_rec.close()\n",
    "            "
   ]
  },
  {
   "cell_type": "code",
   "execution_count": null,
   "metadata": {},
   "outputs": [],
   "source": [
    "modem = TNC.TNCaprs(fs = fs ,Abuffer = 512,Nchunks = 1)\n",
    "\n",
    "#start recording\n",
    "# record_audio(Qin, cQin)\n",
    "st_rec.start()\n",
    "\n",
    "def decode_packets():\n",
    "    print(\"decoding packets\")\n",
    "    starttime = time.time()\n",
    "    npack = 0\n",
    "    state = 0\n",
    "    while(1):\n",
    "        tmp = Qin.get() \n",
    "\n",
    "        packets  = modem.processBuffer(tmp)\n",
    "        for pkt in packets: \n",
    "            ax = modem.decodeAX25(pkt)\n",
    "            npack = npack + 1\n",
    "\n",
    "\n",
    "\n",
    "            infostr = \"%(n) 2i) | DEST: %(dest)s | SRC: %(src)s | DIGI: %(digi)s | %(info)s |\" % {\n",
    "                            'n': npack,\n",
    "                            'dest': ax.destination,\n",
    "                            'src': ax.source,\n",
    "                            'digi': ax.digipeaters,\n",
    "                            'info': ax.info.strip()\n",
    "                        }\n",
    "            print(infostr)\n",
    "\n",
    "            if state == 0 and ax.destination[:5]==\"BEGIN\":\n",
    "                f1 = open(\"rec_\"+ax.info.decode(),\"wb\")\n",
    "                state = 1\n",
    "            elif state == 1 and ax.destination[:3] == \"END\": \n",
    "                state = 2  \n",
    "                break\n",
    "            elif state == 1:\n",
    "                f1.write(ax.info)\n",
    "                print(\"write\")\n",
    "        if state == 2 :\n",
    "            break\n",
    "        if(time.time() - starttime) > 10:\n",
    "            cQin.put(\"EOT\")\n",
    "\n",
    "    print(time.time() - starttime)\n",
    "    \n",
    "    f1.close()\n",
    "\n",
    "decode_packets()\n",
    "st_rec.stop()\n",
    "st_rec.close()"
   ]
  },
  {
   "cell_type": "code",
   "execution_count": null,
   "metadata": {},
   "outputs": [],
   "source": []
  }
 ],
 "metadata": {
  "kernelspec": {
   "display_name": "Python 3",
   "language": "python",
   "name": "python3"
  },
  "language_info": {
   "codemirror_mode": {
    "name": "ipython",
    "version": 3
   },
   "file_extension": ".py",
   "mimetype": "text/x-python",
   "name": "python",
   "nbconvert_exporter": "python",
   "pygments_lexer": "ipython3",
   "version": "3.5.3"
  }
 },
 "nbformat": 4,
 "nbformat_minor": 2
}
